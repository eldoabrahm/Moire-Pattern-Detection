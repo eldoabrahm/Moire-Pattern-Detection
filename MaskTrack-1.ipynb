{
  "nbformat": 4,
  "nbformat_minor": 0,
  "metadata": {
    "accelerator": "GPU",
    "colab": {
      "name": "MaskTrack.ipynb",
      "provenance": [],
      "collapsed_sections": [],
      "include_colab_link": true
    },
    "kernelspec": {
      "display_name": "Python 3",
      "language": "python",
      "name": "python3"
    },
    "language_info": {
      "codemirror_mode": {
        "name": "ipython",
        "version": 3
      },
      "file_extension": ".py",
      "mimetype": "text/x-python",
      "name": "python",
      "nbconvert_exporter": "python",
      "pygments_lexer": "ipython3",
      "version": "3.7.1-final"
    }
  },
  "cells": [
    {
      "cell_type": "markdown",
      "metadata": {
        "id": "view-in-github",
        "colab_type": "text"
      },
      "source": [
        "<a href=\"https://colab.research.google.com/github/eldoabrahm/Moire-Pattern-Detection/blob/master/MaskTrack-1.ipynb\" target=\"_parent\"><img src=\"https://colab.research.google.com/assets/colab-badge.svg\" alt=\"Open In Colab\"/></a>"
      ]
    },
    {
      "cell_type": "markdown",
      "metadata": {
        "id": "6H7b4cJRdr5w"
      },
      "source": [
        "# MaskTrack"
      ]
    },
    {
      "cell_type": "markdown",
      "metadata": {
        "id": "Sy1qu3KCdr52"
      },
      "source": [
        "### Google Colab Setup"
      ]
    },
    {
      "cell_type": "code",
      "metadata": {
        "id": "Tpzt8cNGdwdC",
        "colab": {
          "base_uri": "https://localhost:8080/"
        },
        "outputId": "80a20a03-4d20-4b33-99cb-794d6d7377f7"
      },
      "source": [
        "# !git clone https://github.com/bhavyaajani/DAVIS2017\n",
        "!pwd\n",
        "!pip install keras_segmentation"
      ],
      "execution_count": null,
      "outputs": [
        {
          "output_type": "stream",
          "text": [
            "/content/gdrive/My Drive/stryker/stryker-assignemnet\n",
            "Requirement already satisfied: keras_segmentation in /usr/local/lib/python3.7/dist-packages (0.3.0)\n",
            "Requirement already satisfied: Keras>=2.0.0 in /usr/local/lib/python3.7/dist-packages (from keras_segmentation) (2.4.3)\n",
            "Requirement already satisfied: imgaug==0.2.9 in /usr/local/lib/python3.7/dist-packages (from keras_segmentation) (0.2.9)\n",
            "Requirement already satisfied: imageio==2.5.0 in /usr/local/lib/python3.7/dist-packages (from keras_segmentation) (2.5.0)\n",
            "Requirement already satisfied: opencv-python in /usr/local/lib/python3.7/dist-packages (from keras_segmentation) (4.1.2.30)\n",
            "Requirement already satisfied: tqdm in /usr/local/lib/python3.7/dist-packages (from keras_segmentation) (4.41.1)\n",
            "Requirement already satisfied: h5py in /usr/local/lib/python3.7/dist-packages (from Keras>=2.0.0->keras_segmentation) (2.10.0)\n",
            "Requirement already satisfied: numpy>=1.9.1 in /usr/local/lib/python3.7/dist-packages (from Keras>=2.0.0->keras_segmentation) (1.19.5)\n",
            "Requirement already satisfied: pyyaml in /usr/local/lib/python3.7/dist-packages (from Keras>=2.0.0->keras_segmentation) (3.13)\n",
            "Requirement already satisfied: scipy>=0.14 in /usr/local/lib/python3.7/dist-packages (from Keras>=2.0.0->keras_segmentation) (1.4.1)\n",
            "Requirement already satisfied: scikit-image>=0.11.0 in /usr/local/lib/python3.7/dist-packages (from imgaug==0.2.9->keras_segmentation) (0.16.2)\n",
            "Requirement already satisfied: six in /usr/local/lib/python3.7/dist-packages (from imgaug==0.2.9->keras_segmentation) (1.15.0)\n",
            "Requirement already satisfied: Pillow in /usr/local/lib/python3.7/dist-packages (from imgaug==0.2.9->keras_segmentation) (7.0.0)\n",
            "Requirement already satisfied: Shapely in /usr/local/lib/python3.7/dist-packages (from imgaug==0.2.9->keras_segmentation) (1.7.1)\n",
            "Requirement already satisfied: matplotlib in /usr/local/lib/python3.7/dist-packages (from imgaug==0.2.9->keras_segmentation) (3.2.2)\n",
            "Requirement already satisfied: networkx>=2.0 in /usr/local/lib/python3.7/dist-packages (from scikit-image>=0.11.0->imgaug==0.2.9->keras_segmentation) (2.5)\n",
            "Requirement already satisfied: PyWavelets>=0.4.0 in /usr/local/lib/python3.7/dist-packages (from scikit-image>=0.11.0->imgaug==0.2.9->keras_segmentation) (1.1.1)\n",
            "Requirement already satisfied: pyparsing!=2.0.4,!=2.1.2,!=2.1.6,>=2.0.1 in /usr/local/lib/python3.7/dist-packages (from matplotlib->imgaug==0.2.9->keras_segmentation) (2.4.7)\n",
            "Requirement already satisfied: cycler>=0.10 in /usr/local/lib/python3.7/dist-packages (from matplotlib->imgaug==0.2.9->keras_segmentation) (0.10.0)\n",
            "Requirement already satisfied: kiwisolver>=1.0.1 in /usr/local/lib/python3.7/dist-packages (from matplotlib->imgaug==0.2.9->keras_segmentation) (1.3.1)\n",
            "Requirement already satisfied: python-dateutil>=2.1 in /usr/local/lib/python3.7/dist-packages (from matplotlib->imgaug==0.2.9->keras_segmentation) (2.8.1)\n",
            "Requirement already satisfied: decorator>=4.3.0 in /usr/local/lib/python3.7/dist-packages (from networkx>=2.0->scikit-image>=0.11.0->imgaug==0.2.9->keras_segmentation) (4.4.2)\n"
          ],
          "name": "stdout"
        }
      ]
    },
    {
      "cell_type": "code",
      "metadata": {
        "colab": {
          "base_uri": "https://localhost:8080/"
        },
        "id": "T-6gis6rQZdS",
        "outputId": "dd2003c4-8235-4220-9bc5-1e91cf386d33"
      },
      "source": [
        "from google.colab import drive\n",
        "drive.mount('/content/gdrive')\n",
        "\n",
        "%cd gdrive/My Drive/stryker/stryker-assignemnet\n",
        "! git pull"
      ],
      "execution_count": null,
      "outputs": [
        {
          "output_type": "stream",
          "text": [
            "Drive already mounted at /content/gdrive; to attempt to forcibly remount, call drive.mount(\"/content/gdrive\", force_remount=True).\n",
            "[Errno 2] No such file or directory: 'gdrive/My Drive/stryker/stryker-assignemnet'\n",
            "/content/gdrive/My Drive/stryker/stryker-assignemnet\n",
            "Already up to date.\n"
          ],
          "name": "stdout"
        }
      ]
    },
    {
      "cell_type": "markdown",
      "metadata": {
        "id": "q9s0Xp1edr54"
      },
      "source": [
        "### Python Imports"
      ]
    },
    {
      "cell_type": "code",
      "metadata": {
        "id": "ZpOwcvo0dr54"
      },
      "source": [
        "# Define your python imports\n",
        "import glob\n",
        "import cv2\n",
        "import numpy as np"
      ],
      "execution_count": null,
      "outputs": []
    },
    {
      "cell_type": "markdown",
      "metadata": {
        "id": "S8fh5azxdr55"
      },
      "source": [
        "### Definitions"
      ]
    },
    {
      "cell_type": "code",
      "metadata": {
        "id": "Qdke3C74dr55"
      },
      "source": [
        "#External directories defined here!\n",
        "root_data_dir = 'DAVIS2017'"
      ],
      "execution_count": null,
      "outputs": []
    },
    {
      "cell_type": "code",
      "metadata": {
        "id": "Wn6XMHd4dr56",
        "colab": {
          "base_uri": "https://localhost:8080/"
        },
        "outputId": "12957add-8974-4c25-94ff-8e9934d575e3"
      },
      "source": [
        "imgList = sorted(glob.glob(\"Train/**\"))\n",
        "annList = sorted(glob.glob(\"Train_Annotated/**\"))\n",
        "print(imgList)\n",
        "print(annList)"
      ],
      "execution_count": null,
      "outputs": [
        {
          "output_type": "stream",
          "text": [
            "['Train/bear', 'Train/bike-packing', 'Train/blackswan', 'Train/bmx-bumps', 'Train/bmx-trees', 'Train/boat', 'Train/boxing-fisheye', 'Train/breakdance', 'Train/breakdance-flare', 'Train/bus', 'Train/camel', 'Train/car-roundabout', 'Train/car-shadow', 'Train/car-turn', 'Train/cat-girl', 'Train/classic-car', 'Train/color-run', 'Train/cows', 'Train/crossing', 'Train/dance-jump', 'Train/dance-twirl', 'Train/dancing', 'Train/disc-jockey', 'Train/dog', 'Train/dog-agility', 'Train/dog-gooses', 'Train/dogs-jump', 'Train/dogs-scale', 'Train/drift-chicane', 'Train/drift-straight', 'Train/drift-turn', 'Train/drone', 'Train/elephant', 'Train/flamingo', 'Train/goat', 'Train/gold-fish', 'Train/hike', 'Train/hockey', 'Train/horsejump-high', 'Train/horsejump-low', 'Train/india', 'Train/judo', 'Train/kid-football', 'Train/kite-surf', 'Train/kite-walk', 'Train/koala', 'Train/lab-coat', 'Train/lady-running', 'Train/libby', 'Train/lindy-hop', 'Train/loading', 'Train/longboard', 'Train/lucia', 'Train/mallard-fly', 'Train/mallard-water', 'Train/mbike-trick', 'Train/miami-surf', 'Train/motocross-bumps', 'Train/motocross-jump', 'Train/motorbike', 'Train/night-race', 'Train/paragliding', 'Train/paragliding-launch', 'Train/parkour', 'Train/pigs', 'Train/planes-water', 'Train/rallye', 'Train/rhino', 'Train/rollerblade', 'Train/schoolgirls', 'Train/scooter-black', 'Train/scooter-board', 'Train/scooter-gray', 'Train/sheep', 'Train/shooting', 'Train/skate-park', 'Train/snowboard', 'Train/soapbox', 'Train/soccerball', 'Train/stroller', 'Train/stunt', 'Train/surf', 'Train/swing', 'Train/tennis', 'Train/tractor-sand', 'Train/train', 'Train/tuk-tuk', 'Train/upside-down', 'Train/varanus-cage', 'Train/walking']\n",
            "['Train_Annotated/bear', 'Train_Annotated/bike-packing', 'Train_Annotated/blackswan', 'Train_Annotated/bmx-bumps', 'Train_Annotated/bmx-trees', 'Train_Annotated/boat', 'Train_Annotated/boxing-fisheye', 'Train_Annotated/breakdance', 'Train_Annotated/breakdance-flare', 'Train_Annotated/bus', 'Train_Annotated/camel', 'Train_Annotated/car-roundabout', 'Train_Annotated/car-shadow', 'Train_Annotated/car-turn', 'Train_Annotated/cat-girl', 'Train_Annotated/classic-car', 'Train_Annotated/color-run', 'Train_Annotated/cows', 'Train_Annotated/crossing', 'Train_Annotated/dance-jump', 'Train_Annotated/dance-twirl', 'Train_Annotated/dancing', 'Train_Annotated/disc-jockey', 'Train_Annotated/dog', 'Train_Annotated/dog-agility', 'Train_Annotated/dog-gooses', 'Train_Annotated/dogs-jump', 'Train_Annotated/dogs-scale', 'Train_Annotated/drift-chicane', 'Train_Annotated/drift-straight', 'Train_Annotated/drift-turn', 'Train_Annotated/drone', 'Train_Annotated/elephant', 'Train_Annotated/flamingo', 'Train_Annotated/goat', 'Train_Annotated/gold-fish', 'Train_Annotated/hike', 'Train_Annotated/hockey', 'Train_Annotated/horsejump-high', 'Train_Annotated/horsejump-low', 'Train_Annotated/india', 'Train_Annotated/judo', 'Train_Annotated/kid-football', 'Train_Annotated/kite-surf', 'Train_Annotated/kite-walk', 'Train_Annotated/koala', 'Train_Annotated/lab-coat', 'Train_Annotated/lady-running', 'Train_Annotated/libby', 'Train_Annotated/lindy-hop', 'Train_Annotated/loading', 'Train_Annotated/longboard', 'Train_Annotated/lucia', 'Train_Annotated/mallard-fly', 'Train_Annotated/mallard-water', 'Train_Annotated/mbike-trick', 'Train_Annotated/miami-surf', 'Train_Annotated/motocross-bumps', 'Train_Annotated/motocross-jump', 'Train_Annotated/motorbike', 'Train_Annotated/night-race', 'Train_Annotated/paragliding', 'Train_Annotated/paragliding-launch', 'Train_Annotated/parkour', 'Train_Annotated/pigs', 'Train_Annotated/planes-water', 'Train_Annotated/rallye', 'Train_Annotated/rhino', 'Train_Annotated/rollerblade', 'Train_Annotated/schoolgirls', 'Train_Annotated/scooter-black', 'Train_Annotated/scooter-board', 'Train_Annotated/scooter-gray', 'Train_Annotated/sheep', 'Train_Annotated/shooting', 'Train_Annotated/skate-park', 'Train_Annotated/snowboard', 'Train_Annotated/soapbox', 'Train_Annotated/soccerball', 'Train_Annotated/stroller', 'Train_Annotated/stunt', 'Train_Annotated/surf', 'Train_Annotated/swing', 'Train_Annotated/tennis', 'Train_Annotated/tractor-sand', 'Train_Annotated/train', 'Train_Annotated/tuk-tuk', 'Train_Annotated/upside-down', 'Train_Annotated/varanus-cage', 'Train_Annotated/walking']\n"
          ],
          "name": "stdout"
        }
      ]
    },
    {
      "cell_type": "markdown",
      "metadata": {
        "id": "GMEfnn9iQW9R"
      },
      "source": [
        "## Common Code"
      ]
    },
    {
      "cell_type": "code",
      "metadata": {
        "id": "-AAv4sFiQW9S"
      },
      "source": [
        "# Implement common (re-usable) functions for all 3 tasks in next few cells"
      ],
      "execution_count": null,
      "outputs": []
    },
    {
      "cell_type": "markdown",
      "metadata": {
        "id": "MF395H2eQW9T"
      },
      "source": [
        "## Task 1 - Base Network"
      ]
    },
    {
      "cell_type": "code",
      "metadata": {
        "id": "wX9241nIQW9T"
      },
      "source": [
        "# Write APIs to load data for Task 1 and split into Train/Validation set\n"
      ],
      "execution_count": null,
      "outputs": []
    },
    {
      "cell_type": "code",
      "metadata": {
        "id": "IgzrKDq2dr57"
      },
      "source": [
        "# Unit tests to ensure data load for Task 1 is correct (display few of the samples)"
      ],
      "execution_count": null,
      "outputs": []
    },
    {
      "cell_type": "code",
      "metadata": {
        "id": "8NEjIOogdr57"
      },
      "source": [
        "# Implement DL algorithm for Task 1 in next few cells"
      ],
      "execution_count": null,
      "outputs": []
    },
    {
      "cell_type": "markdown",
      "metadata": {
        "id": "VN9PqLCAQW9V"
      },
      "source": [
        "#### Test keras-segmentation"
      ]
    },
    {
      "cell_type": "code",
      "metadata": {
        "tags": [
          "outputPrepend"
        ],
        "id": "dncty1ocQW9V",
        "colab": {
          "base_uri": "https://localhost:8080/"
        },
        "outputId": "e8fb8fc3-6526-43cf-c33f-727ed06c610b"
      },
      "source": [
        "# import tensorflow as tf\n",
        "# import keras\n",
        "# print(tf.__version__)\n",
        "# print(keras.__version__)\n",
        "import keras_segmentation\n",
        "from keras_segmentation.pretrained import pspnet_50_ADE_20K , pspnet_101_cityscapes, pspnet_101_voc12\n",
        "\n",
        "\n",
        "\n",
        "# model = pspnet_50_ADE_20K() # load the pretrained model trained on ADE20k dataset\n",
        "# model = pspnet_101_cityscapes() # load the pretrained model trained on Cityscapes dataset\n",
        "model = pspnet_101_voc12() # load the pretrained model trained on Pascal VOC 2012 dataset\n",
        "\n",
        "out = model.predict_segmentation(\n",
        "    inp=\"00000.jpg\",\n",
        "    out_fname=\"out.png\"\n",
        ")\n",
        "model.summary()\n",
        "model.save('my_model.h5')"
      ],
      "execution_count": null,
      "outputs": [
        {
          "output_type": "stream",
          "text": [
            "Model: \"model_5\"\n",
            "__________________________________________________________________________________________________\n",
            "Layer (type)                    Output Shape         Param #     Connected to                     \n",
            "==================================================================================================\n",
            "input_2 (InputLayer)            [(None, 473, 473, 3) 0                                            \n",
            "__________________________________________________________________________________________________\n",
            "conv1_1_3x3_s2 (Conv2D)         (None, 237, 237, 64) 1728        input_2[0][0]                    \n",
            "__________________________________________________________________________________________________\n",
            "conv1_1_3x3_s2_bn (BatchNormali (None, 237, 237, 64) 256         conv1_1_3x3_s2[0][0]             \n",
            "__________________________________________________________________________________________________\n",
            "activation_109 (Activation)     (None, 237, 237, 64) 0           conv1_1_3x3_s2_bn[0][0]          \n",
            "__________________________________________________________________________________________________\n",
            "conv1_2_3x3 (Conv2D)            (None, 237, 237, 64) 36864       activation_109[0][0]             \n",
            "__________________________________________________________________________________________________\n",
            "conv1_2_3x3_bn (BatchNormalizat (None, 237, 237, 64) 256         conv1_2_3x3[0][0]                \n",
            "__________________________________________________________________________________________________\n",
            "activation_110 (Activation)     (None, 237, 237, 64) 0           conv1_2_3x3_bn[0][0]             \n",
            "__________________________________________________________________________________________________\n",
            "conv1_3_3x3 (Conv2D)            (None, 237, 237, 128 73728       activation_110[0][0]             \n",
            "__________________________________________________________________________________________________\n",
            "conv1_3_3x3_bn (BatchNormalizat (None, 237, 237, 128 512         conv1_3_3x3[0][0]                \n",
            "__________________________________________________________________________________________________\n",
            "activation_111 (Activation)     (None, 237, 237, 128 0           conv1_3_3x3_bn[0][0]             \n",
            "__________________________________________________________________________________________________\n",
            "max_pooling2d_1 (MaxPooling2D)  (None, 119, 119, 128 0           activation_111[0][0]             \n",
            "__________________________________________________________________________________________________\n",
            "activation_112 (Activation)     (None, 119, 119, 128 0           max_pooling2d_1[0][0]            \n",
            "__________________________________________________________________________________________________\n",
            "conv2_1_1x1_reduce (Conv2D)     (None, 119, 119, 64) 8192        activation_112[0][0]             \n",
            "__________________________________________________________________________________________________\n",
            "conv2_1_1x1_reduce_bn (BatchNor (None, 119, 119, 64) 256         conv2_1_1x1_reduce[0][0]         \n",
            "__________________________________________________________________________________________________\n",
            "activation_113 (Activation)     (None, 119, 119, 64) 0           conv2_1_1x1_reduce_bn[0][0]      \n",
            "__________________________________________________________________________________________________\n",
            "zero_padding2d_33 (ZeroPadding2 (None, 121, 121, 64) 0           activation_113[0][0]             \n",
            "__________________________________________________________________________________________________\n",
            "conv2_1_3x3 (Conv2D)            (None, 119, 119, 64) 36864       zero_padding2d_33[0][0]          \n",
            "__________________________________________________________________________________________________\n",
            "conv2_1_3x3_bn (BatchNormalizat (None, 119, 119, 64) 256         conv2_1_3x3[0][0]                \n",
            "__________________________________________________________________________________________________\n",
            "activation_114 (Activation)     (None, 119, 119, 64) 0           conv2_1_3x3_bn[0][0]             \n",
            "__________________________________________________________________________________________________\n",
            "conv2_1_1x1_increase (Conv2D)   (None, 119, 119, 256 16384       activation_114[0][0]             \n",
            "__________________________________________________________________________________________________\n",
            "conv2_1_1x1_proj (Conv2D)       (None, 119, 119, 256 32768       activation_112[0][0]             \n",
            "__________________________________________________________________________________________________\n",
            "conv2_1_1x1_increase_bn (BatchN (None, 119, 119, 256 1024        conv2_1_1x1_increase[0][0]       \n",
            "__________________________________________________________________________________________________\n",
            "conv2_1_1x1_proj_bn (BatchNorma (None, 119, 119, 256 1024        conv2_1_1x1_proj[0][0]           \n",
            "__________________________________________________________________________________________________\n",
            "add_33 (Add)                    (None, 119, 119, 256 0           conv2_1_1x1_increase_bn[0][0]    \n",
            "                                                                 conv2_1_1x1_proj_bn[0][0]        \n",
            "__________________________________________________________________________________________________\n",
            "activation_115 (Activation)     (None, 119, 119, 256 0           add_33[0][0]                     \n",
            "__________________________________________________________________________________________________\n",
            "conv2_2_1x1_reduce (Conv2D)     (None, 119, 119, 64) 16384       activation_115[0][0]             \n",
            "__________________________________________________________________________________________________\n",
            "conv2_2_1x1_reduce_bn (BatchNor (None, 119, 119, 64) 256         conv2_2_1x1_reduce[0][0]         \n",
            "__________________________________________________________________________________________________\n",
            "activation_116 (Activation)     (None, 119, 119, 64) 0           conv2_2_1x1_reduce_bn[0][0]      \n",
            "__________________________________________________________________________________________________\n",
            "zero_padding2d_34 (ZeroPadding2 (None, 121, 121, 64) 0           activation_116[0][0]             \n",
            "__________________________________________________________________________________________________\n",
            "conv2_2_3x3 (Conv2D)            (None, 119, 119, 64) 36864       zero_padding2d_34[0][0]          \n",
            "__________________________________________________________________________________________________\n",
            "conv2_2_3x3_bn (BatchNormalizat (None, 119, 119, 64) 256         conv2_2_3x3[0][0]                \n",
            "__________________________________________________________________________________________________\n",
            "activation_117 (Activation)     (None, 119, 119, 64) 0           conv2_2_3x3_bn[0][0]             \n",
            "__________________________________________________________________________________________________\n",
            "conv2_2_1x1_increase (Conv2D)   (None, 119, 119, 256 16384       activation_117[0][0]             \n",
            "__________________________________________________________________________________________________\n",
            "conv2_2_1x1_increase_bn (BatchN (None, 119, 119, 256 1024        conv2_2_1x1_increase[0][0]       \n",
            "__________________________________________________________________________________________________\n",
            "add_34 (Add)                    (None, 119, 119, 256 0           conv2_2_1x1_increase_bn[0][0]    \n",
            "                                                                 activation_115[0][0]             \n",
            "__________________________________________________________________________________________________\n",
            "activation_118 (Activation)     (None, 119, 119, 256 0           add_34[0][0]                     \n",
            "__________________________________________________________________________________________________\n",
            "conv2_3_1x1_reduce (Conv2D)     (None, 119, 119, 64) 16384       activation_118[0][0]             \n",
            "__________________________________________________________________________________________________\n",
            "conv2_3_1x1_reduce_bn (BatchNor (None, 119, 119, 64) 256         conv2_3_1x1_reduce[0][0]         \n",
            "__________________________________________________________________________________________________\n",
            "activation_119 (Activation)     (None, 119, 119, 64) 0           conv2_3_1x1_reduce_bn[0][0]      \n",
            "__________________________________________________________________________________________________\n",
            "zero_padding2d_35 (ZeroPadding2 (None, 121, 121, 64) 0           activation_119[0][0]             \n",
            "__________________________________________________________________________________________________\n",
            "conv2_3_3x3 (Conv2D)            (None, 119, 119, 64) 36864       zero_padding2d_35[0][0]          \n",
            "__________________________________________________________________________________________________\n",
            "conv2_3_3x3_bn (BatchNormalizat (None, 119, 119, 64) 256         conv2_3_3x3[0][0]                \n",
            "__________________________________________________________________________________________________\n",
            "activation_120 (Activation)     (None, 119, 119, 64) 0           conv2_3_3x3_bn[0][0]             \n",
            "__________________________________________________________________________________________________\n",
            "conv2_3_1x1_increase (Conv2D)   (None, 119, 119, 256 16384       activation_120[0][0]             \n",
            "__________________________________________________________________________________________________\n",
            "conv2_3_1x1_increase_bn (BatchN (None, 119, 119, 256 1024        conv2_3_1x1_increase[0][0]       \n",
            "__________________________________________________________________________________________________\n",
            "add_35 (Add)                    (None, 119, 119, 256 0           conv2_3_1x1_increase_bn[0][0]    \n",
            "                                                                 activation_118[0][0]             \n",
            "__________________________________________________________________________________________________\n",
            "activation_121 (Activation)     (None, 119, 119, 256 0           add_35[0][0]                     \n",
            "__________________________________________________________________________________________________\n",
            "conv3_1_1x1_reduce (Conv2D)     (None, 60, 60, 128)  32768       activation_121[0][0]             \n",
            "__________________________________________________________________________________________________\n",
            "conv3_1_1x1_reduce_bn (BatchNor (None, 60, 60, 128)  512         conv3_1_1x1_reduce[0][0]         \n",
            "__________________________________________________________________________________________________\n",
            "activation_122 (Activation)     (None, 60, 60, 128)  0           conv3_1_1x1_reduce_bn[0][0]      \n",
            "__________________________________________________________________________________________________\n",
            "zero_padding2d_36 (ZeroPadding2 (None, 62, 62, 128)  0           activation_122[0][0]             \n",
            "__________________________________________________________________________________________________\n",
            "conv3_1_3x3 (Conv2D)            (None, 60, 60, 128)  147456      zero_padding2d_36[0][0]          \n",
            "__________________________________________________________________________________________________\n",
            "conv3_1_3x3_bn (BatchNormalizat (None, 60, 60, 128)  512         conv3_1_3x3[0][0]                \n",
            "__________________________________________________________________________________________________\n",
            "activation_123 (Activation)     (None, 60, 60, 128)  0           conv3_1_3x3_bn[0][0]             \n",
            "__________________________________________________________________________________________________\n",
            "conv3_1_1x1_increase (Conv2D)   (None, 60, 60, 512)  65536       activation_123[0][0]             \n",
            "__________________________________________________________________________________________________\n",
            "conv3_1_1x1_proj (Conv2D)       (None, 60, 60, 512)  131072      activation_121[0][0]             \n",
            "__________________________________________________________________________________________________\n",
            "conv3_1_1x1_increase_bn (BatchN (None, 60, 60, 512)  2048        conv3_1_1x1_increase[0][0]       \n",
            "__________________________________________________________________________________________________\n",
            "conv3_1_1x1_proj_bn (BatchNorma (None, 60, 60, 512)  2048        conv3_1_1x1_proj[0][0]           \n",
            "__________________________________________________________________________________________________\n",
            "add_36 (Add)                    (None, 60, 60, 512)  0           conv3_1_1x1_increase_bn[0][0]    \n",
            "                                                                 conv3_1_1x1_proj_bn[0][0]        \n",
            "__________________________________________________________________________________________________\n",
            "activation_124 (Activation)     (None, 60, 60, 512)  0           add_36[0][0]                     \n",
            "__________________________________________________________________________________________________\n",
            "conv3_2_1x1_reduce (Conv2D)     (None, 60, 60, 128)  65536       activation_124[0][0]             \n",
            "__________________________________________________________________________________________________\n",
            "conv3_2_1x1_reduce_bn (BatchNor (None, 60, 60, 128)  512         conv3_2_1x1_reduce[0][0]         \n",
            "__________________________________________________________________________________________________\n",
            "activation_125 (Activation)     (None, 60, 60, 128)  0           conv3_2_1x1_reduce_bn[0][0]      \n",
            "__________________________________________________________________________________________________\n",
            "zero_padding2d_37 (ZeroPadding2 (None, 62, 62, 128)  0           activation_125[0][0]             \n",
            "__________________________________________________________________________________________________\n",
            "conv3_2_3x3 (Conv2D)            (None, 60, 60, 128)  147456      zero_padding2d_37[0][0]          \n",
            "__________________________________________________________________________________________________\n",
            "conv3_2_3x3_bn (BatchNormalizat (None, 60, 60, 128)  512         conv3_2_3x3[0][0]                \n",
            "__________________________________________________________________________________________________\n",
            "activation_126 (Activation)     (None, 60, 60, 128)  0           conv3_2_3x3_bn[0][0]             \n",
            "__________________________________________________________________________________________________\n",
            "conv3_2_1x1_increase (Conv2D)   (None, 60, 60, 512)  65536       activation_126[0][0]             \n",
            "__________________________________________________________________________________________________\n",
            "conv3_2_1x1_increase_bn (BatchN (None, 60, 60, 512)  2048        conv3_2_1x1_increase[0][0]       \n",
            "__________________________________________________________________________________________________\n",
            "add_37 (Add)                    (None, 60, 60, 512)  0           conv3_2_1x1_increase_bn[0][0]    \n",
            "                                                                 activation_124[0][0]             \n",
            "__________________________________________________________________________________________________\n",
            "activation_127 (Activation)     (None, 60, 60, 512)  0           add_37[0][0]                     \n",
            "__________________________________________________________________________________________________\n",
            "conv3_3_1x1_reduce (Conv2D)     (None, 60, 60, 128)  65536       activation_127[0][0]             \n",
            "__________________________________________________________________________________________________\n",
            "conv3_3_1x1_reduce_bn (BatchNor (None, 60, 60, 128)  512         conv3_3_1x1_reduce[0][0]         \n",
            "__________________________________________________________________________________________________\n",
            "activation_128 (Activation)     (None, 60, 60, 128)  0           conv3_3_1x1_reduce_bn[0][0]      \n",
            "__________________________________________________________________________________________________\n",
            "zero_padding2d_38 (ZeroPadding2 (None, 62, 62, 128)  0           activation_128[0][0]             \n",
            "__________________________________________________________________________________________________\n",
            "conv3_3_3x3 (Conv2D)            (None, 60, 60, 128)  147456      zero_padding2d_38[0][0]          \n",
            "__________________________________________________________________________________________________\n",
            "conv3_3_3x3_bn (BatchNormalizat (None, 60, 60, 128)  512         conv3_3_3x3[0][0]                \n",
            "__________________________________________________________________________________________________\n",
            "activation_129 (Activation)     (None, 60, 60, 128)  0           conv3_3_3x3_bn[0][0]             \n",
            "__________________________________________________________________________________________________\n",
            "conv3_3_1x1_increase (Conv2D)   (None, 60, 60, 512)  65536       activation_129[0][0]             \n",
            "__________________________________________________________________________________________________\n",
            "conv3_3_1x1_increase_bn (BatchN (None, 60, 60, 512)  2048        conv3_3_1x1_increase[0][0]       \n",
            "__________________________________________________________________________________________________\n",
            "add_38 (Add)                    (None, 60, 60, 512)  0           conv3_3_1x1_increase_bn[0][0]    \n",
            "                                                                 activation_127[0][0]             \n",
            "__________________________________________________________________________________________________\n",
            "activation_130 (Activation)     (None, 60, 60, 512)  0           add_38[0][0]                     \n",
            "__________________________________________________________________________________________________\n",
            "conv3_4_1x1_reduce (Conv2D)     (None, 60, 60, 128)  65536       activation_130[0][0]             \n",
            "__________________________________________________________________________________________________\n",
            "conv3_4_1x1_reduce_bn (BatchNor (None, 60, 60, 128)  512         conv3_4_1x1_reduce[0][0]         \n",
            "__________________________________________________________________________________________________\n",
            "activation_131 (Activation)     (None, 60, 60, 128)  0           conv3_4_1x1_reduce_bn[0][0]      \n",
            "__________________________________________________________________________________________________\n",
            "zero_padding2d_39 (ZeroPadding2 (None, 62, 62, 128)  0           activation_131[0][0]             \n",
            "__________________________________________________________________________________________________\n",
            "conv3_4_3x3 (Conv2D)            (None, 60, 60, 128)  147456      zero_padding2d_39[0][0]          \n",
            "__________________________________________________________________________________________________\n",
            "conv3_4_3x3_bn (BatchNormalizat (None, 60, 60, 128)  512         conv3_4_3x3[0][0]                \n",
            "__________________________________________________________________________________________________\n",
            "activation_132 (Activation)     (None, 60, 60, 128)  0           conv3_4_3x3_bn[0][0]             \n",
            "__________________________________________________________________________________________________\n",
            "conv3_4_1x1_increase (Conv2D)   (None, 60, 60, 512)  65536       activation_132[0][0]             \n",
            "__________________________________________________________________________________________________\n",
            "conv3_4_1x1_increase_bn (BatchN (None, 60, 60, 512)  2048        conv3_4_1x1_increase[0][0]       \n",
            "__________________________________________________________________________________________________\n",
            "add_39 (Add)                    (None, 60, 60, 512)  0           conv3_4_1x1_increase_bn[0][0]    \n",
            "                                                                 activation_130[0][0]             \n",
            "__________________________________________________________________________________________________\n",
            "activation_133 (Activation)     (None, 60, 60, 512)  0           add_39[0][0]                     \n",
            "__________________________________________________________________________________________________\n",
            "conv4_1_1x1_reduce (Conv2D)     (None, 60, 60, 256)  131072      activation_133[0][0]             \n",
            "__________________________________________________________________________________________________\n",
            "conv4_1_1x1_reduce_bn (BatchNor (None, 60, 60, 256)  1024        conv4_1_1x1_reduce[0][0]         \n",
            "__________________________________________________________________________________________________\n",
            "activation_134 (Activation)     (None, 60, 60, 256)  0           conv4_1_1x1_reduce_bn[0][0]      \n",
            "__________________________________________________________________________________________________\n",
            "zero_padding2d_40 (ZeroPadding2 (None, 64, 64, 256)  0           activation_134[0][0]             \n",
            "__________________________________________________________________________________________________\n",
            "conv4_1_3x3 (Conv2D)            (None, 60, 60, 256)  589824      zero_padding2d_40[0][0]          \n",
            "__________________________________________________________________________________________________\n",
            "conv4_1_3x3_bn (BatchNormalizat (None, 60, 60, 256)  1024        conv4_1_3x3[0][0]                \n",
            "__________________________________________________________________________________________________\n",
            "activation_135 (Activation)     (None, 60, 60, 256)  0           conv4_1_3x3_bn[0][0]             \n",
            "__________________________________________________________________________________________________\n",
            "conv4_1_1x1_increase (Conv2D)   (None, 60, 60, 1024) 262144      activation_135[0][0]             \n",
            "__________________________________________________________________________________________________\n",
            "conv4_1_1x1_proj (Conv2D)       (None, 60, 60, 1024) 524288      activation_133[0][0]             \n",
            "__________________________________________________________________________________________________\n",
            "conv4_1_1x1_increase_bn (BatchN (None, 60, 60, 1024) 4096        conv4_1_1x1_increase[0][0]       \n",
            "__________________________________________________________________________________________________\n",
            "conv4_1_1x1_proj_bn (BatchNorma (None, 60, 60, 1024) 4096        conv4_1_1x1_proj[0][0]           \n",
            "__________________________________________________________________________________________________\n",
            "add_40 (Add)                    (None, 60, 60, 1024) 0           conv4_1_1x1_increase_bn[0][0]    \n",
            "                                                                 conv4_1_1x1_proj_bn[0][0]        \n",
            "__________________________________________________________________________________________________\n",
            "activation_136 (Activation)     (None, 60, 60, 1024) 0           add_40[0][0]                     \n",
            "__________________________________________________________________________________________________\n",
            "conv4_2_1x1_reduce (Conv2D)     (None, 60, 60, 256)  262144      activation_136[0][0]             \n",
            "__________________________________________________________________________________________________\n",
            "conv4_2_1x1_reduce_bn (BatchNor (None, 60, 60, 256)  1024        conv4_2_1x1_reduce[0][0]         \n",
            "__________________________________________________________________________________________________\n",
            "activation_137 (Activation)     (None, 60, 60, 256)  0           conv4_2_1x1_reduce_bn[0][0]      \n",
            "__________________________________________________________________________________________________\n",
            "zero_padding2d_41 (ZeroPadding2 (None, 64, 64, 256)  0           activation_137[0][0]             \n",
            "__________________________________________________________________________________________________\n",
            "conv4_2_3x3 (Conv2D)            (None, 60, 60, 256)  589824      zero_padding2d_41[0][0]          \n",
            "__________________________________________________________________________________________________\n",
            "conv4_2_3x3_bn (BatchNormalizat (None, 60, 60, 256)  1024        conv4_2_3x3[0][0]                \n",
            "__________________________________________________________________________________________________\n",
            "activation_138 (Activation)     (None, 60, 60, 256)  0           conv4_2_3x3_bn[0][0]             \n",
            "__________________________________________________________________________________________________\n",
            "conv4_2_1x1_increase (Conv2D)   (None, 60, 60, 1024) 262144      activation_138[0][0]             \n",
            "__________________________________________________________________________________________________\n",
            "conv4_2_1x1_increase_bn (BatchN (None, 60, 60, 1024) 4096        conv4_2_1x1_increase[0][0]       \n",
            "__________________________________________________________________________________________________\n",
            "add_41 (Add)                    (None, 60, 60, 1024) 0           conv4_2_1x1_increase_bn[0][0]    \n",
            "                                                                 activation_136[0][0]             \n",
            "__________________________________________________________________________________________________\n",
            "activation_139 (Activation)     (None, 60, 60, 1024) 0           add_41[0][0]                     \n",
            "__________________________________________________________________________________________________\n",
            "conv4_3_1x1_reduce (Conv2D)     (None, 60, 60, 256)  262144      activation_139[0][0]             \n",
            "__________________________________________________________________________________________________\n",
            "conv4_3_1x1_reduce_bn (BatchNor (None, 60, 60, 256)  1024        conv4_3_1x1_reduce[0][0]         \n",
            "__________________________________________________________________________________________________\n",
            "activation_140 (Activation)     (None, 60, 60, 256)  0           conv4_3_1x1_reduce_bn[0][0]      \n",
            "__________________________________________________________________________________________________\n",
            "zero_padding2d_42 (ZeroPadding2 (None, 64, 64, 256)  0           activation_140[0][0]             \n",
            "__________________________________________________________________________________________________\n",
            "conv4_3_3x3 (Conv2D)            (None, 60, 60, 256)  589824      zero_padding2d_42[0][0]          \n",
            "__________________________________________________________________________________________________\n",
            "conv4_3_3x3_bn (BatchNormalizat (None, 60, 60, 256)  1024        conv4_3_3x3[0][0]                \n",
            "__________________________________________________________________________________________________\n",
            "activation_141 (Activation)     (None, 60, 60, 256)  0           conv4_3_3x3_bn[0][0]             \n",
            "__________________________________________________________________________________________________\n",
            "conv4_3_1x1_increase (Conv2D)   (None, 60, 60, 1024) 262144      activation_141[0][0]             \n",
            "__________________________________________________________________________________________________\n",
            "conv4_3_1x1_increase_bn (BatchN (None, 60, 60, 1024) 4096        conv4_3_1x1_increase[0][0]       \n",
            "__________________________________________________________________________________________________\n",
            "add_42 (Add)                    (None, 60, 60, 1024) 0           conv4_3_1x1_increase_bn[0][0]    \n",
            "                                                                 activation_139[0][0]             \n",
            "__________________________________________________________________________________________________\n",
            "activation_142 (Activation)     (None, 60, 60, 1024) 0           add_42[0][0]                     \n",
            "__________________________________________________________________________________________________\n",
            "conv4_4_1x1_reduce (Conv2D)     (None, 60, 60, 256)  262144      activation_142[0][0]             \n",
            "__________________________________________________________________________________________________\n",
            "conv4_4_1x1_reduce_bn (BatchNor (None, 60, 60, 256)  1024        conv4_4_1x1_reduce[0][0]         \n",
            "__________________________________________________________________________________________________\n",
            "activation_143 (Activation)     (None, 60, 60, 256)  0           conv4_4_1x1_reduce_bn[0][0]      \n",
            "__________________________________________________________________________________________________\n",
            "zero_padding2d_43 (ZeroPadding2 (None, 64, 64, 256)  0           activation_143[0][0]             \n",
            "__________________________________________________________________________________________________\n",
            "conv4_4_3x3 (Conv2D)            (None, 60, 60, 256)  589824      zero_padding2d_43[0][0]          \n",
            "__________________________________________________________________________________________________\n",
            "conv4_4_3x3_bn (BatchNormalizat (None, 60, 60, 256)  1024        conv4_4_3x3[0][0]                \n",
            "__________________________________________________________________________________________________\n",
            "activation_144 (Activation)     (None, 60, 60, 256)  0           conv4_4_3x3_bn[0][0]             \n",
            "__________________________________________________________________________________________________\n",
            "conv4_4_1x1_increase (Conv2D)   (None, 60, 60, 1024) 262144      activation_144[0][0]             \n",
            "__________________________________________________________________________________________________\n",
            "conv4_4_1x1_increase_bn (BatchN (None, 60, 60, 1024) 4096        conv4_4_1x1_increase[0][0]       \n",
            "__________________________________________________________________________________________________\n",
            "add_43 (Add)                    (None, 60, 60, 1024) 0           conv4_4_1x1_increase_bn[0][0]    \n",
            "                                                                 activation_142[0][0]             \n",
            "__________________________________________________________________________________________________\n",
            "activation_145 (Activation)     (None, 60, 60, 1024) 0           add_43[0][0]                     \n",
            "__________________________________________________________________________________________________\n",
            "conv4_5_1x1_reduce (Conv2D)     (None, 60, 60, 256)  262144      activation_145[0][0]             \n",
            "__________________________________________________________________________________________________\n",
            "conv4_5_1x1_reduce_bn (BatchNor (None, 60, 60, 256)  1024        conv4_5_1x1_reduce[0][0]         \n",
            "__________________________________________________________________________________________________\n",
            "activation_146 (Activation)     (None, 60, 60, 256)  0           conv4_5_1x1_reduce_bn[0][0]      \n",
            "__________________________________________________________________________________________________\n",
            "zero_padding2d_44 (ZeroPadding2 (None, 64, 64, 256)  0           activation_146[0][0]             \n",
            "__________________________________________________________________________________________________\n",
            "conv4_5_3x3 (Conv2D)            (None, 60, 60, 256)  589824      zero_padding2d_44[0][0]          \n",
            "__________________________________________________________________________________________________\n",
            "conv4_5_3x3_bn (BatchNormalizat (None, 60, 60, 256)  1024        conv4_5_3x3[0][0]                \n",
            "__________________________________________________________________________________________________\n",
            "activation_147 (Activation)     (None, 60, 60, 256)  0           conv4_5_3x3_bn[0][0]             \n",
            "__________________________________________________________________________________________________\n",
            "conv4_5_1x1_increase (Conv2D)   (None, 60, 60, 1024) 262144      activation_147[0][0]             \n",
            "__________________________________________________________________________________________________\n",
            "conv4_5_1x1_increase_bn (BatchN (None, 60, 60, 1024) 4096        conv4_5_1x1_increase[0][0]       \n",
            "__________________________________________________________________________________________________\n",
            "add_44 (Add)                    (None, 60, 60, 1024) 0           conv4_5_1x1_increase_bn[0][0]    \n",
            "                                                                 activation_145[0][0]             \n",
            "__________________________________________________________________________________________________\n",
            "activation_148 (Activation)     (None, 60, 60, 1024) 0           add_44[0][0]                     \n",
            "__________________________________________________________________________________________________\n",
            "conv4_6_1x1_reduce (Conv2D)     (None, 60, 60, 256)  262144      activation_148[0][0]             \n",
            "__________________________________________________________________________________________________\n",
            "conv4_6_1x1_reduce_bn (BatchNor (None, 60, 60, 256)  1024        conv4_6_1x1_reduce[0][0]         \n",
            "__________________________________________________________________________________________________\n",
            "activation_149 (Activation)     (None, 60, 60, 256)  0           conv4_6_1x1_reduce_bn[0][0]      \n",
            "__________________________________________________________________________________________________\n",
            "zero_padding2d_45 (ZeroPadding2 (None, 64, 64, 256)  0           activation_149[0][0]             \n",
            "__________________________________________________________________________________________________\n",
            "conv4_6_3x3 (Conv2D)            (None, 60, 60, 256)  589824      zero_padding2d_45[0][0]          \n",
            "__________________________________________________________________________________________________\n",
            "conv4_6_3x3_bn (BatchNormalizat (None, 60, 60, 256)  1024        conv4_6_3x3[0][0]                \n",
            "__________________________________________________________________________________________________\n",
            "activation_150 (Activation)     (None, 60, 60, 256)  0           conv4_6_3x3_bn[0][0]             \n",
            "__________________________________________________________________________________________________\n",
            "conv4_6_1x1_increase (Conv2D)   (None, 60, 60, 1024) 262144      activation_150[0][0]             \n",
            "__________________________________________________________________________________________________\n",
            "conv4_6_1x1_increase_bn (BatchN (None, 60, 60, 1024) 4096        conv4_6_1x1_increase[0][0]       \n",
            "__________________________________________________________________________________________________\n",
            "add_45 (Add)                    (None, 60, 60, 1024) 0           conv4_6_1x1_increase_bn[0][0]    \n",
            "                                                                 activation_148[0][0]             \n",
            "__________________________________________________________________________________________________\n",
            "activation_151 (Activation)     (None, 60, 60, 1024) 0           add_45[0][0]                     \n",
            "__________________________________________________________________________________________________\n",
            "conv4_7_1x1_reduce (Conv2D)     (None, 60, 60, 256)  262144      activation_151[0][0]             \n",
            "__________________________________________________________________________________________________\n",
            "conv4_7_1x1_reduce_bn (BatchNor (None, 60, 60, 256)  1024        conv4_7_1x1_reduce[0][0]         \n",
            "__________________________________________________________________________________________________\n",
            "activation_152 (Activation)     (None, 60, 60, 256)  0           conv4_7_1x1_reduce_bn[0][0]      \n",
            "__________________________________________________________________________________________________\n",
            "zero_padding2d_46 (ZeroPadding2 (None, 64, 64, 256)  0           activation_152[0][0]             \n",
            "__________________________________________________________________________________________________\n",
            "conv4_7_3x3 (Conv2D)            (None, 60, 60, 256)  589824      zero_padding2d_46[0][0]          \n",
            "__________________________________________________________________________________________________\n",
            "conv4_7_3x3_bn (BatchNormalizat (None, 60, 60, 256)  1024        conv4_7_3x3[0][0]                \n",
            "__________________________________________________________________________________________________\n",
            "activation_153 (Activation)     (None, 60, 60, 256)  0           conv4_7_3x3_bn[0][0]             \n",
            "__________________________________________________________________________________________________\n",
            "conv4_7_1x1_increase (Conv2D)   (None, 60, 60, 1024) 262144      activation_153[0][0]             \n",
            "__________________________________________________________________________________________________\n",
            "conv4_7_1x1_increase_bn (BatchN (None, 60, 60, 1024) 4096        conv4_7_1x1_increase[0][0]       \n",
            "__________________________________________________________________________________________________\n",
            "add_46 (Add)                    (None, 60, 60, 1024) 0           conv4_7_1x1_increase_bn[0][0]    \n",
            "                                                                 activation_151[0][0]             \n",
            "__________________________________________________________________________________________________\n",
            "activation_154 (Activation)     (None, 60, 60, 1024) 0           add_46[0][0]                     \n",
            "__________________________________________________________________________________________________\n",
            "conv4_8_1x1_reduce (Conv2D)     (None, 60, 60, 256)  262144      activation_154[0][0]             \n",
            "__________________________________________________________________________________________________\n",
            "conv4_8_1x1_reduce_bn (BatchNor (None, 60, 60, 256)  1024        conv4_8_1x1_reduce[0][0]         \n",
            "__________________________________________________________________________________________________\n",
            "activation_155 (Activation)     (None, 60, 60, 256)  0           conv4_8_1x1_reduce_bn[0][0]      \n",
            "__________________________________________________________________________________________________\n",
            "zero_padding2d_47 (ZeroPadding2 (None, 64, 64, 256)  0           activation_155[0][0]             \n",
            "__________________________________________________________________________________________________\n",
            "conv4_8_3x3 (Conv2D)            (None, 60, 60, 256)  589824      zero_padding2d_47[0][0]          \n",
            "__________________________________________________________________________________________________\n",
            "conv4_8_3x3_bn (BatchNormalizat (None, 60, 60, 256)  1024        conv4_8_3x3[0][0]                \n",
            "__________________________________________________________________________________________________\n",
            "activation_156 (Activation)     (None, 60, 60, 256)  0           conv4_8_3x3_bn[0][0]             \n",
            "__________________________________________________________________________________________________\n",
            "conv4_8_1x1_increase (Conv2D)   (None, 60, 60, 1024) 262144      activation_156[0][0]             \n",
            "__________________________________________________________________________________________________\n",
            "conv4_8_1x1_increase_bn (BatchN (None, 60, 60, 1024) 4096        conv4_8_1x1_increase[0][0]       \n",
            "__________________________________________________________________________________________________\n",
            "add_47 (Add)                    (None, 60, 60, 1024) 0           conv4_8_1x1_increase_bn[0][0]    \n",
            "                                                                 activation_154[0][0]             \n",
            "__________________________________________________________________________________________________\n",
            "activation_157 (Activation)     (None, 60, 60, 1024) 0           add_47[0][0]                     \n",
            "__________________________________________________________________________________________________\n",
            "conv4_9_1x1_reduce (Conv2D)     (None, 60, 60, 256)  262144      activation_157[0][0]             \n",
            "__________________________________________________________________________________________________\n",
            "conv4_9_1x1_reduce_bn (BatchNor (None, 60, 60, 256)  1024        conv4_9_1x1_reduce[0][0]         \n",
            "__________________________________________________________________________________________________\n",
            "activation_158 (Activation)     (None, 60, 60, 256)  0           conv4_9_1x1_reduce_bn[0][0]      \n",
            "__________________________________________________________________________________________________\n",
            "zero_padding2d_48 (ZeroPadding2 (None, 64, 64, 256)  0           activation_158[0][0]             \n",
            "__________________________________________________________________________________________________\n",
            "conv4_9_3x3 (Conv2D)            (None, 60, 60, 256)  589824      zero_padding2d_48[0][0]          \n",
            "__________________________________________________________________________________________________\n",
            "conv4_9_3x3_bn (BatchNormalizat (None, 60, 60, 256)  1024        conv4_9_3x3[0][0]                \n",
            "__________________________________________________________________________________________________\n",
            "activation_159 (Activation)     (None, 60, 60, 256)  0           conv4_9_3x3_bn[0][0]             \n",
            "__________________________________________________________________________________________________\n",
            "conv4_9_1x1_increase (Conv2D)   (None, 60, 60, 1024) 262144      activation_159[0][0]             \n",
            "__________________________________________________________________________________________________\n",
            "conv4_9_1x1_increase_bn (BatchN (None, 60, 60, 1024) 4096        conv4_9_1x1_increase[0][0]       \n",
            "__________________________________________________________________________________________________\n",
            "add_48 (Add)                    (None, 60, 60, 1024) 0           conv4_9_1x1_increase_bn[0][0]    \n",
            "                                                                 activation_157[0][0]             \n",
            "__________________________________________________________________________________________________\n",
            "activation_160 (Activation)     (None, 60, 60, 1024) 0           add_48[0][0]                     \n",
            "__________________________________________________________________________________________________\n",
            "conv4_10_1x1_reduce (Conv2D)    (None, 60, 60, 256)  262144      activation_160[0][0]             \n",
            "__________________________________________________________________________________________________\n",
            "conv4_10_1x1_reduce_bn (BatchNo (None, 60, 60, 256)  1024        conv4_10_1x1_reduce[0][0]        \n",
            "__________________________________________________________________________________________________\n",
            "activation_161 (Activation)     (None, 60, 60, 256)  0           conv4_10_1x1_reduce_bn[0][0]     \n",
            "__________________________________________________________________________________________________\n",
            "zero_padding2d_49 (ZeroPadding2 (None, 64, 64, 256)  0           activation_161[0][0]             \n",
            "__________________________________________________________________________________________________\n",
            "conv4_10_3x3 (Conv2D)           (None, 60, 60, 256)  589824      zero_padding2d_49[0][0]          \n",
            "__________________________________________________________________________________________________\n",
            "conv4_10_3x3_bn (BatchNormaliza (None, 60, 60, 256)  1024        conv4_10_3x3[0][0]               \n",
            "__________________________________________________________________________________________________\n",
            "activation_162 (Activation)     (None, 60, 60, 256)  0           conv4_10_3x3_bn[0][0]            \n",
            "__________________________________________________________________________________________________\n",
            "conv4_10_1x1_increase (Conv2D)  (None, 60, 60, 1024) 262144      activation_162[0][0]             \n",
            "__________________________________________________________________________________________________\n",
            "conv4_10_1x1_increase_bn (Batch (None, 60, 60, 1024) 4096        conv4_10_1x1_increase[0][0]      \n",
            "__________________________________________________________________________________________________\n",
            "add_49 (Add)                    (None, 60, 60, 1024) 0           conv4_10_1x1_increase_bn[0][0]   \n",
            "                                                                 activation_160[0][0]             \n",
            "__________________________________________________________________________________________________\n",
            "activation_163 (Activation)     (None, 60, 60, 1024) 0           add_49[0][0]                     \n",
            "__________________________________________________________________________________________________\n",
            "conv4_11_1x1_reduce (Conv2D)    (None, 60, 60, 256)  262144      activation_163[0][0]             \n",
            "__________________________________________________________________________________________________\n",
            "conv4_11_1x1_reduce_bn (BatchNo (None, 60, 60, 256)  1024        conv4_11_1x1_reduce[0][0]        \n",
            "__________________________________________________________________________________________________\n",
            "activation_164 (Activation)     (None, 60, 60, 256)  0           conv4_11_1x1_reduce_bn[0][0]     \n",
            "__________________________________________________________________________________________________\n",
            "zero_padding2d_50 (ZeroPadding2 (None, 64, 64, 256)  0           activation_164[0][0]             \n",
            "__________________________________________________________________________________________________\n",
            "conv4_11_3x3 (Conv2D)           (None, 60, 60, 256)  589824      zero_padding2d_50[0][0]          \n",
            "__________________________________________________________________________________________________\n",
            "conv4_11_3x3_bn (BatchNormaliza (None, 60, 60, 256)  1024        conv4_11_3x3[0][0]               \n",
            "__________________________________________________________________________________________________\n",
            "activation_165 (Activation)     (None, 60, 60, 256)  0           conv4_11_3x3_bn[0][0]            \n",
            "__________________________________________________________________________________________________\n",
            "conv4_11_1x1_increase (Conv2D)  (None, 60, 60, 1024) 262144      activation_165[0][0]             \n",
            "__________________________________________________________________________________________________\n",
            "conv4_11_1x1_increase_bn (Batch (None, 60, 60, 1024) 4096        conv4_11_1x1_increase[0][0]      \n",
            "__________________________________________________________________________________________________\n",
            "add_50 (Add)                    (None, 60, 60, 1024) 0           conv4_11_1x1_increase_bn[0][0]   \n",
            "                                                                 activation_163[0][0]             \n",
            "__________________________________________________________________________________________________\n",
            "activation_166 (Activation)     (None, 60, 60, 1024) 0           add_50[0][0]                     \n",
            "__________________________________________________________________________________________________\n",
            "conv4_12_1x1_reduce (Conv2D)    (None, 60, 60, 256)  262144      activation_166[0][0]             \n",
            "__________________________________________________________________________________________________\n",
            "conv4_12_1x1_reduce_bn (BatchNo (None, 60, 60, 256)  1024        conv4_12_1x1_reduce[0][0]        \n",
            "__________________________________________________________________________________________________\n",
            "activation_167 (Activation)     (None, 60, 60, 256)  0           conv4_12_1x1_reduce_bn[0][0]     \n",
            "__________________________________________________________________________________________________\n",
            "zero_padding2d_51 (ZeroPadding2 (None, 64, 64, 256)  0           activation_167[0][0]             \n",
            "__________________________________________________________________________________________________\n",
            "conv4_12_3x3 (Conv2D)           (None, 60, 60, 256)  589824      zero_padding2d_51[0][0]          \n",
            "__________________________________________________________________________________________________\n",
            "conv4_12_3x3_bn (BatchNormaliza (None, 60, 60, 256)  1024        conv4_12_3x3[0][0]               \n",
            "__________________________________________________________________________________________________\n",
            "activation_168 (Activation)     (None, 60, 60, 256)  0           conv4_12_3x3_bn[0][0]            \n",
            "__________________________________________________________________________________________________\n",
            "conv4_12_1x1_increase (Conv2D)  (None, 60, 60, 1024) 262144      activation_168[0][0]             \n",
            "__________________________________________________________________________________________________\n",
            "conv4_12_1x1_increase_bn (Batch (None, 60, 60, 1024) 4096        conv4_12_1x1_increase[0][0]      \n",
            "__________________________________________________________________________________________________\n",
            "add_51 (Add)                    (None, 60, 60, 1024) 0           conv4_12_1x1_increase_bn[0][0]   \n",
            "                                                                 activation_166[0][0]             \n",
            "__________________________________________________________________________________________________\n",
            "activation_169 (Activation)     (None, 60, 60, 1024) 0           add_51[0][0]                     \n",
            "__________________________________________________________________________________________________\n",
            "conv4_13_1x1_reduce (Conv2D)    (None, 60, 60, 256)  262144      activation_169[0][0]             \n",
            "__________________________________________________________________________________________________\n",
            "conv4_13_1x1_reduce_bn (BatchNo (None, 60, 60, 256)  1024        conv4_13_1x1_reduce[0][0]        \n",
            "__________________________________________________________________________________________________\n",
            "activation_170 (Activation)     (None, 60, 60, 256)  0           conv4_13_1x1_reduce_bn[0][0]     \n",
            "__________________________________________________________________________________________________\n",
            "zero_padding2d_52 (ZeroPadding2 (None, 64, 64, 256)  0           activation_170[0][0]             \n",
            "__________________________________________________________________________________________________\n",
            "conv4_13_3x3 (Conv2D)           (None, 60, 60, 256)  589824      zero_padding2d_52[0][0]          \n",
            "__________________________________________________________________________________________________\n",
            "conv4_13_3x3_bn (BatchNormaliza (None, 60, 60, 256)  1024        conv4_13_3x3[0][0]               \n",
            "__________________________________________________________________________________________________\n",
            "activation_171 (Activation)     (None, 60, 60, 256)  0           conv4_13_3x3_bn[0][0]            \n",
            "__________________________________________________________________________________________________\n",
            "conv4_13_1x1_increase (Conv2D)  (None, 60, 60, 1024) 262144      activation_171[0][0]             \n",
            "__________________________________________________________________________________________________\n",
            "conv4_13_1x1_increase_bn (Batch (None, 60, 60, 1024) 4096        conv4_13_1x1_increase[0][0]      \n",
            "__________________________________________________________________________________________________\n",
            "add_52 (Add)                    (None, 60, 60, 1024) 0           conv4_13_1x1_increase_bn[0][0]   \n",
            "                                                                 activation_169[0][0]             \n",
            "__________________________________________________________________________________________________\n",
            "activation_172 (Activation)     (None, 60, 60, 1024) 0           add_52[0][0]                     \n",
            "__________________________________________________________________________________________________\n",
            "conv4_14_1x1_reduce (Conv2D)    (None, 60, 60, 256)  262144      activation_172[0][0]             \n",
            "__________________________________________________________________________________________________\n",
            "conv4_14_1x1_reduce_bn (BatchNo (None, 60, 60, 256)  1024        conv4_14_1x1_reduce[0][0]        \n",
            "__________________________________________________________________________________________________\n",
            "activation_173 (Activation)     (None, 60, 60, 256)  0           conv4_14_1x1_reduce_bn[0][0]     \n",
            "__________________________________________________________________________________________________\n",
            "zero_padding2d_53 (ZeroPadding2 (None, 64, 64, 256)  0           activation_173[0][0]             \n",
            "__________________________________________________________________________________________________\n",
            "conv4_14_3x3 (Conv2D)           (None, 60, 60, 256)  589824      zero_padding2d_53[0][0]          \n",
            "__________________________________________________________________________________________________\n",
            "conv4_14_3x3_bn (BatchNormaliza (None, 60, 60, 256)  1024        conv4_14_3x3[0][0]               \n",
            "__________________________________________________________________________________________________\n",
            "activation_174 (Activation)     (None, 60, 60, 256)  0           conv4_14_3x3_bn[0][0]            \n",
            "__________________________________________________________________________________________________\n",
            "conv4_14_1x1_increase (Conv2D)  (None, 60, 60, 1024) 262144      activation_174[0][0]             \n",
            "__________________________________________________________________________________________________\n",
            "conv4_14_1x1_increase_bn (Batch (None, 60, 60, 1024) 4096        conv4_14_1x1_increase[0][0]      \n",
            "__________________________________________________________________________________________________\n",
            "add_53 (Add)                    (None, 60, 60, 1024) 0           conv4_14_1x1_increase_bn[0][0]   \n",
            "                                                                 activation_172[0][0]             \n",
            "__________________________________________________________________________________________________\n",
            "activation_175 (Activation)     (None, 60, 60, 1024) 0           add_53[0][0]                     \n",
            "__________________________________________________________________________________________________\n",
            "conv4_15_1x1_reduce (Conv2D)    (None, 60, 60, 256)  262144      activation_175[0][0]             \n",
            "__________________________________________________________________________________________________\n",
            "conv4_15_1x1_reduce_bn (BatchNo (None, 60, 60, 256)  1024        conv4_15_1x1_reduce[0][0]        \n",
            "__________________________________________________________________________________________________\n",
            "activation_176 (Activation)     (None, 60, 60, 256)  0           conv4_15_1x1_reduce_bn[0][0]     \n",
            "__________________________________________________________________________________________________\n",
            "zero_padding2d_54 (ZeroPadding2 (None, 64, 64, 256)  0           activation_176[0][0]             \n",
            "__________________________________________________________________________________________________\n",
            "conv4_15_3x3 (Conv2D)           (None, 60, 60, 256)  589824      zero_padding2d_54[0][0]          \n",
            "__________________________________________________________________________________________________\n",
            "conv4_15_3x3_bn (BatchNormaliza (None, 60, 60, 256)  1024        conv4_15_3x3[0][0]               \n",
            "__________________________________________________________________________________________________\n",
            "activation_177 (Activation)     (None, 60, 60, 256)  0           conv4_15_3x3_bn[0][0]            \n",
            "__________________________________________________________________________________________________\n",
            "conv4_15_1x1_increase (Conv2D)  (None, 60, 60, 1024) 262144      activation_177[0][0]             \n",
            "__________________________________________________________________________________________________\n",
            "conv4_15_1x1_increase_bn (Batch (None, 60, 60, 1024) 4096        conv4_15_1x1_increase[0][0]      \n",
            "__________________________________________________________________________________________________\n",
            "add_54 (Add)                    (None, 60, 60, 1024) 0           conv4_15_1x1_increase_bn[0][0]   \n",
            "                                                                 activation_175[0][0]             \n",
            "__________________________________________________________________________________________________\n",
            "activation_178 (Activation)     (None, 60, 60, 1024) 0           add_54[0][0]                     \n",
            "__________________________________________________________________________________________________\n",
            "conv4_16_1x1_reduce (Conv2D)    (None, 60, 60, 256)  262144      activation_178[0][0]             \n",
            "__________________________________________________________________________________________________\n",
            "conv4_16_1x1_reduce_bn (BatchNo (None, 60, 60, 256)  1024        conv4_16_1x1_reduce[0][0]        \n",
            "__________________________________________________________________________________________________\n",
            "activation_179 (Activation)     (None, 60, 60, 256)  0           conv4_16_1x1_reduce_bn[0][0]     \n",
            "__________________________________________________________________________________________________\n",
            "zero_padding2d_55 (ZeroPadding2 (None, 64, 64, 256)  0           activation_179[0][0]             \n",
            "__________________________________________________________________________________________________\n",
            "conv4_16_3x3 (Conv2D)           (None, 60, 60, 256)  589824      zero_padding2d_55[0][0]          \n",
            "__________________________________________________________________________________________________\n",
            "conv4_16_3x3_bn (BatchNormaliza (None, 60, 60, 256)  1024        conv4_16_3x3[0][0]               \n",
            "__________________________________________________________________________________________________\n",
            "activation_180 (Activation)     (None, 60, 60, 256)  0           conv4_16_3x3_bn[0][0]            \n",
            "__________________________________________________________________________________________________\n",
            "conv4_16_1x1_increase (Conv2D)  (None, 60, 60, 1024) 262144      activation_180[0][0]             \n",
            "__________________________________________________________________________________________________\n",
            "conv4_16_1x1_increase_bn (Batch (None, 60, 60, 1024) 4096        conv4_16_1x1_increase[0][0]      \n",
            "__________________________________________________________________________________________________\n",
            "add_55 (Add)                    (None, 60, 60, 1024) 0           conv4_16_1x1_increase_bn[0][0]   \n",
            "                                                                 activation_178[0][0]             \n",
            "__________________________________________________________________________________________________\n",
            "activation_181 (Activation)     (None, 60, 60, 1024) 0           add_55[0][0]                     \n",
            "__________________________________________________________________________________________________\n",
            "conv4_17_1x1_reduce (Conv2D)    (None, 60, 60, 256)  262144      activation_181[0][0]             \n",
            "__________________________________________________________________________________________________\n",
            "conv4_17_1x1_reduce_bn (BatchNo (None, 60, 60, 256)  1024        conv4_17_1x1_reduce[0][0]        \n",
            "__________________________________________________________________________________________________\n",
            "activation_182 (Activation)     (None, 60, 60, 256)  0           conv4_17_1x1_reduce_bn[0][0]     \n",
            "__________________________________________________________________________________________________\n",
            "zero_padding2d_56 (ZeroPadding2 (None, 64, 64, 256)  0           activation_182[0][0]             \n",
            "__________________________________________________________________________________________________\n",
            "conv4_17_3x3 (Conv2D)           (None, 60, 60, 256)  589824      zero_padding2d_56[0][0]          \n",
            "__________________________________________________________________________________________________\n",
            "conv4_17_3x3_bn (BatchNormaliza (None, 60, 60, 256)  1024        conv4_17_3x3[0][0]               \n",
            "__________________________________________________________________________________________________\n",
            "activation_183 (Activation)     (None, 60, 60, 256)  0           conv4_17_3x3_bn[0][0]            \n",
            "__________________________________________________________________________________________________\n",
            "conv4_17_1x1_increase (Conv2D)  (None, 60, 60, 1024) 262144      activation_183[0][0]             \n",
            "__________________________________________________________________________________________________\n",
            "conv4_17_1x1_increase_bn (Batch (None, 60, 60, 1024) 4096        conv4_17_1x1_increase[0][0]      \n",
            "__________________________________________________________________________________________________\n",
            "add_56 (Add)                    (None, 60, 60, 1024) 0           conv4_17_1x1_increase_bn[0][0]   \n",
            "                                                                 activation_181[0][0]             \n",
            "__________________________________________________________________________________________________\n",
            "activation_184 (Activation)     (None, 60, 60, 1024) 0           add_56[0][0]                     \n",
            "__________________________________________________________________________________________________\n",
            "conv4_18_1x1_reduce (Conv2D)    (None, 60, 60, 256)  262144      activation_184[0][0]             \n",
            "__________________________________________________________________________________________________\n",
            "conv4_18_1x1_reduce_bn (BatchNo (None, 60, 60, 256)  1024        conv4_18_1x1_reduce[0][0]        \n",
            "__________________________________________________________________________________________________\n",
            "activation_185 (Activation)     (None, 60, 60, 256)  0           conv4_18_1x1_reduce_bn[0][0]     \n",
            "__________________________________________________________________________________________________\n",
            "zero_padding2d_57 (ZeroPadding2 (None, 64, 64, 256)  0           activation_185[0][0]             \n",
            "__________________________________________________________________________________________________\n",
            "conv4_18_3x3 (Conv2D)           (None, 60, 60, 256)  589824      zero_padding2d_57[0][0]          \n",
            "__________________________________________________________________________________________________\n",
            "conv4_18_3x3_bn (BatchNormaliza (None, 60, 60, 256)  1024        conv4_18_3x3[0][0]               \n",
            "__________________________________________________________________________________________________\n",
            "activation_186 (Activation)     (None, 60, 60, 256)  0           conv4_18_3x3_bn[0][0]            \n",
            "__________________________________________________________________________________________________\n",
            "conv4_18_1x1_increase (Conv2D)  (None, 60, 60, 1024) 262144      activation_186[0][0]             \n",
            "__________________________________________________________________________________________________\n",
            "conv4_18_1x1_increase_bn (Batch (None, 60, 60, 1024) 4096        conv4_18_1x1_increase[0][0]      \n",
            "__________________________________________________________________________________________________\n",
            "add_57 (Add)                    (None, 60, 60, 1024) 0           conv4_18_1x1_increase_bn[0][0]   \n",
            "                                                                 activation_184[0][0]             \n",
            "__________________________________________________________________________________________________\n",
            "activation_187 (Activation)     (None, 60, 60, 1024) 0           add_57[0][0]                     \n",
            "__________________________________________________________________________________________________\n",
            "conv4_19_1x1_reduce (Conv2D)    (None, 60, 60, 256)  262144      activation_187[0][0]             \n",
            "__________________________________________________________________________________________________\n",
            "conv4_19_1x1_reduce_bn (BatchNo (None, 60, 60, 256)  1024        conv4_19_1x1_reduce[0][0]        \n",
            "__________________________________________________________________________________________________\n",
            "activation_188 (Activation)     (None, 60, 60, 256)  0           conv4_19_1x1_reduce_bn[0][0]     \n",
            "__________________________________________________________________________________________________\n",
            "zero_padding2d_58 (ZeroPadding2 (None, 64, 64, 256)  0           activation_188[0][0]             \n",
            "__________________________________________________________________________________________________\n",
            "conv4_19_3x3 (Conv2D)           (None, 60, 60, 256)  589824      zero_padding2d_58[0][0]          \n",
            "__________________________________________________________________________________________________\n",
            "conv4_19_3x3_bn (BatchNormaliza (None, 60, 60, 256)  1024        conv4_19_3x3[0][0]               \n",
            "__________________________________________________________________________________________________\n",
            "activation_189 (Activation)     (None, 60, 60, 256)  0           conv4_19_3x3_bn[0][0]            \n",
            "__________________________________________________________________________________________________\n",
            "conv4_19_1x1_increase (Conv2D)  (None, 60, 60, 1024) 262144      activation_189[0][0]             \n",
            "__________________________________________________________________________________________________\n",
            "conv4_19_1x1_increase_bn (Batch (None, 60, 60, 1024) 4096        conv4_19_1x1_increase[0][0]      \n",
            "__________________________________________________________________________________________________\n",
            "add_58 (Add)                    (None, 60, 60, 1024) 0           conv4_19_1x1_increase_bn[0][0]   \n",
            "                                                                 activation_187[0][0]             \n",
            "__________________________________________________________________________________________________\n",
            "activation_190 (Activation)     (None, 60, 60, 1024) 0           add_58[0][0]                     \n",
            "__________________________________________________________________________________________________\n",
            "conv4_20_1x1_reduce (Conv2D)    (None, 60, 60, 256)  262144      activation_190[0][0]             \n",
            "__________________________________________________________________________________________________\n",
            "conv4_20_1x1_reduce_bn (BatchNo (None, 60, 60, 256)  1024        conv4_20_1x1_reduce[0][0]        \n",
            "__________________________________________________________________________________________________\n",
            "activation_191 (Activation)     (None, 60, 60, 256)  0           conv4_20_1x1_reduce_bn[0][0]     \n",
            "__________________________________________________________________________________________________\n",
            "zero_padding2d_59 (ZeroPadding2 (None, 64, 64, 256)  0           activation_191[0][0]             \n",
            "__________________________________________________________________________________________________\n",
            "conv4_20_3x3 (Conv2D)           (None, 60, 60, 256)  589824      zero_padding2d_59[0][0]          \n",
            "__________________________________________________________________________________________________\n",
            "conv4_20_3x3_bn (BatchNormaliza (None, 60, 60, 256)  1024        conv4_20_3x3[0][0]               \n",
            "__________________________________________________________________________________________________\n",
            "activation_192 (Activation)     (None, 60, 60, 256)  0           conv4_20_3x3_bn[0][0]            \n",
            "__________________________________________________________________________________________________\n",
            "conv4_20_1x1_increase (Conv2D)  (None, 60, 60, 1024) 262144      activation_192[0][0]             \n",
            "__________________________________________________________________________________________________\n",
            "conv4_20_1x1_increase_bn (Batch (None, 60, 60, 1024) 4096        conv4_20_1x1_increase[0][0]      \n",
            "__________________________________________________________________________________________________\n",
            "add_59 (Add)                    (None, 60, 60, 1024) 0           conv4_20_1x1_increase_bn[0][0]   \n",
            "                                                                 activation_190[0][0]             \n",
            "__________________________________________________________________________________________________\n",
            "activation_193 (Activation)     (None, 60, 60, 1024) 0           add_59[0][0]                     \n",
            "__________________________________________________________________________________________________\n",
            "conv4_21_1x1_reduce (Conv2D)    (None, 60, 60, 256)  262144      activation_193[0][0]             \n",
            "__________________________________________________________________________________________________\n",
            "conv4_21_1x1_reduce_bn (BatchNo (None, 60, 60, 256)  1024        conv4_21_1x1_reduce[0][0]        \n",
            "__________________________________________________________________________________________________\n",
            "activation_194 (Activation)     (None, 60, 60, 256)  0           conv4_21_1x1_reduce_bn[0][0]     \n",
            "__________________________________________________________________________________________________\n",
            "zero_padding2d_60 (ZeroPadding2 (None, 64, 64, 256)  0           activation_194[0][0]             \n",
            "__________________________________________________________________________________________________\n",
            "conv4_21_3x3 (Conv2D)           (None, 60, 60, 256)  589824      zero_padding2d_60[0][0]          \n",
            "__________________________________________________________________________________________________\n",
            "conv4_21_3x3_bn (BatchNormaliza (None, 60, 60, 256)  1024        conv4_21_3x3[0][0]               \n",
            "__________________________________________________________________________________________________\n",
            "activation_195 (Activation)     (None, 60, 60, 256)  0           conv4_21_3x3_bn[0][0]            \n",
            "__________________________________________________________________________________________________\n",
            "conv4_21_1x1_increase (Conv2D)  (None, 60, 60, 1024) 262144      activation_195[0][0]             \n",
            "__________________________________________________________________________________________________\n",
            "conv4_21_1x1_increase_bn (Batch (None, 60, 60, 1024) 4096        conv4_21_1x1_increase[0][0]      \n",
            "__________________________________________________________________________________________________\n",
            "add_60 (Add)                    (None, 60, 60, 1024) 0           conv4_21_1x1_increase_bn[0][0]   \n",
            "                                                                 activation_193[0][0]             \n",
            "__________________________________________________________________________________________________\n",
            "activation_196 (Activation)     (None, 60, 60, 1024) 0           add_60[0][0]                     \n",
            "__________________________________________________________________________________________________\n",
            "conv4_22_1x1_reduce (Conv2D)    (None, 60, 60, 256)  262144      activation_196[0][0]             \n",
            "__________________________________________________________________________________________________\n",
            "conv4_22_1x1_reduce_bn (BatchNo (None, 60, 60, 256)  1024        conv4_22_1x1_reduce[0][0]        \n",
            "__________________________________________________________________________________________________\n",
            "activation_197 (Activation)     (None, 60, 60, 256)  0           conv4_22_1x1_reduce_bn[0][0]     \n",
            "__________________________________________________________________________________________________\n",
            "zero_padding2d_61 (ZeroPadding2 (None, 64, 64, 256)  0           activation_197[0][0]             \n",
            "__________________________________________________________________________________________________\n",
            "conv4_22_3x3 (Conv2D)           (None, 60, 60, 256)  589824      zero_padding2d_61[0][0]          \n",
            "__________________________________________________________________________________________________\n",
            "conv4_22_3x3_bn (BatchNormaliza (None, 60, 60, 256)  1024        conv4_22_3x3[0][0]               \n",
            "__________________________________________________________________________________________________\n",
            "activation_198 (Activation)     (None, 60, 60, 256)  0           conv4_22_3x3_bn[0][0]            \n",
            "__________________________________________________________________________________________________\n",
            "conv4_22_1x1_increase (Conv2D)  (None, 60, 60, 1024) 262144      activation_198[0][0]             \n",
            "__________________________________________________________________________________________________\n",
            "conv4_22_1x1_increase_bn (Batch (None, 60, 60, 1024) 4096        conv4_22_1x1_increase[0][0]      \n",
            "__________________________________________________________________________________________________\n",
            "add_61 (Add)                    (None, 60, 60, 1024) 0           conv4_22_1x1_increase_bn[0][0]   \n",
            "                                                                 activation_196[0][0]             \n",
            "__________________________________________________________________________________________________\n",
            "activation_199 (Activation)     (None, 60, 60, 1024) 0           add_61[0][0]                     \n",
            "__________________________________________________________________________________________________\n",
            "conv4_23_1x1_reduce (Conv2D)    (None, 60, 60, 256)  262144      activation_199[0][0]             \n",
            "__________________________________________________________________________________________________\n",
            "conv4_23_1x1_reduce_bn (BatchNo (None, 60, 60, 256)  1024        conv4_23_1x1_reduce[0][0]        \n",
            "__________________________________________________________________________________________________\n",
            "activation_200 (Activation)     (None, 60, 60, 256)  0           conv4_23_1x1_reduce_bn[0][0]     \n",
            "__________________________________________________________________________________________________\n",
            "zero_padding2d_62 (ZeroPadding2 (None, 64, 64, 256)  0           activation_200[0][0]             \n",
            "__________________________________________________________________________________________________\n",
            "conv4_23_3x3 (Conv2D)           (None, 60, 60, 256)  589824      zero_padding2d_62[0][0]          \n",
            "__________________________________________________________________________________________________\n",
            "conv4_23_3x3_bn (BatchNormaliza (None, 60, 60, 256)  1024        conv4_23_3x3[0][0]               \n",
            "__________________________________________________________________________________________________\n",
            "activation_201 (Activation)     (None, 60, 60, 256)  0           conv4_23_3x3_bn[0][0]            \n",
            "__________________________________________________________________________________________________\n",
            "conv4_23_1x1_increase (Conv2D)  (None, 60, 60, 1024) 262144      activation_201[0][0]             \n",
            "__________________________________________________________________________________________________\n",
            "conv4_23_1x1_increase_bn (Batch (None, 60, 60, 1024) 4096        conv4_23_1x1_increase[0][0]      \n",
            "__________________________________________________________________________________________________\n",
            "add_62 (Add)                    (None, 60, 60, 1024) 0           conv4_23_1x1_increase_bn[0][0]   \n",
            "                                                                 activation_199[0][0]             \n",
            "__________________________________________________________________________________________________\n",
            "activation_202 (Activation)     (None, 60, 60, 1024) 0           add_62[0][0]                     \n",
            "__________________________________________________________________________________________________\n",
            "conv5_1_1x1_reduce (Conv2D)     (None, 60, 60, 512)  524288      activation_202[0][0]             \n",
            "__________________________________________________________________________________________________\n",
            "conv5_1_1x1_reduce_bn (BatchNor (None, 60, 60, 512)  2048        conv5_1_1x1_reduce[0][0]         \n",
            "__________________________________________________________________________________________________\n",
            "activation_203 (Activation)     (None, 60, 60, 512)  0           conv5_1_1x1_reduce_bn[0][0]      \n",
            "__________________________________________________________________________________________________\n",
            "zero_padding2d_63 (ZeroPadding2 (None, 68, 68, 512)  0           activation_203[0][0]             \n",
            "__________________________________________________________________________________________________\n",
            "conv5_1_3x3 (Conv2D)            (None, 60, 60, 512)  2359296     zero_padding2d_63[0][0]          \n",
            "__________________________________________________________________________________________________\n",
            "conv5_1_3x3_bn (BatchNormalizat (None, 60, 60, 512)  2048        conv5_1_3x3[0][0]                \n",
            "__________________________________________________________________________________________________\n",
            "activation_204 (Activation)     (None, 60, 60, 512)  0           conv5_1_3x3_bn[0][0]             \n",
            "__________________________________________________________________________________________________\n",
            "conv5_1_1x1_increase (Conv2D)   (None, 60, 60, 2048) 1048576     activation_204[0][0]             \n",
            "__________________________________________________________________________________________________\n",
            "conv5_1_1x1_proj (Conv2D)       (None, 60, 60, 2048) 2097152     activation_202[0][0]             \n",
            "__________________________________________________________________________________________________\n",
            "conv5_1_1x1_increase_bn (BatchN (None, 60, 60, 2048) 8192        conv5_1_1x1_increase[0][0]       \n",
            "__________________________________________________________________________________________________\n",
            "conv5_1_1x1_proj_bn (BatchNorma (None, 60, 60, 2048) 8192        conv5_1_1x1_proj[0][0]           \n",
            "__________________________________________________________________________________________________\n",
            "add_63 (Add)                    (None, 60, 60, 2048) 0           conv5_1_1x1_increase_bn[0][0]    \n",
            "                                                                 conv5_1_1x1_proj_bn[0][0]        \n",
            "__________________________________________________________________________________________________\n",
            "activation_205 (Activation)     (None, 60, 60, 2048) 0           add_63[0][0]                     \n",
            "__________________________________________________________________________________________________\n",
            "conv5_2_1x1_reduce (Conv2D)     (None, 60, 60, 512)  1048576     activation_205[0][0]             \n",
            "__________________________________________________________________________________________________\n",
            "conv5_2_1x1_reduce_bn (BatchNor (None, 60, 60, 512)  2048        conv5_2_1x1_reduce[0][0]         \n",
            "__________________________________________________________________________________________________\n",
            "activation_206 (Activation)     (None, 60, 60, 512)  0           conv5_2_1x1_reduce_bn[0][0]      \n",
            "__________________________________________________________________________________________________\n",
            "zero_padding2d_64 (ZeroPadding2 (None, 68, 68, 512)  0           activation_206[0][0]             \n",
            "__________________________________________________________________________________________________\n",
            "conv5_2_3x3 (Conv2D)            (None, 60, 60, 512)  2359296     zero_padding2d_64[0][0]          \n",
            "__________________________________________________________________________________________________\n",
            "conv5_2_3x3_bn (BatchNormalizat (None, 60, 60, 512)  2048        conv5_2_3x3[0][0]                \n",
            "__________________________________________________________________________________________________\n",
            "activation_207 (Activation)     (None, 60, 60, 512)  0           conv5_2_3x3_bn[0][0]             \n",
            "__________________________________________________________________________________________________\n",
            "conv5_2_1x1_increase (Conv2D)   (None, 60, 60, 2048) 1048576     activation_207[0][0]             \n",
            "__________________________________________________________________________________________________\n",
            "conv5_2_1x1_increase_bn (BatchN (None, 60, 60, 2048) 8192        conv5_2_1x1_increase[0][0]       \n",
            "__________________________________________________________________________________________________\n",
            "add_64 (Add)                    (None, 60, 60, 2048) 0           conv5_2_1x1_increase_bn[0][0]    \n",
            "                                                                 activation_205[0][0]             \n",
            "__________________________________________________________________________________________________\n",
            "activation_208 (Activation)     (None, 60, 60, 2048) 0           add_64[0][0]                     \n",
            "__________________________________________________________________________________________________\n",
            "conv5_3_1x1_reduce (Conv2D)     (None, 60, 60, 512)  1048576     activation_208[0][0]             \n",
            "__________________________________________________________________________________________________\n",
            "conv5_3_1x1_reduce_bn (BatchNor (None, 60, 60, 512)  2048        conv5_3_1x1_reduce[0][0]         \n",
            "__________________________________________________________________________________________________\n",
            "activation_209 (Activation)     (None, 60, 60, 512)  0           conv5_3_1x1_reduce_bn[0][0]      \n",
            "__________________________________________________________________________________________________\n",
            "zero_padding2d_65 (ZeroPadding2 (None, 68, 68, 512)  0           activation_209[0][0]             \n",
            "__________________________________________________________________________________________________\n",
            "conv5_3_3x3 (Conv2D)            (None, 60, 60, 512)  2359296     zero_padding2d_65[0][0]          \n",
            "__________________________________________________________________________________________________\n",
            "conv5_3_3x3_bn (BatchNormalizat (None, 60, 60, 512)  2048        conv5_3_3x3[0][0]                \n",
            "__________________________________________________________________________________________________\n",
            "activation_210 (Activation)     (None, 60, 60, 512)  0           conv5_3_3x3_bn[0][0]             \n",
            "__________________________________________________________________________________________________\n",
            "conv5_3_1x1_increase (Conv2D)   (None, 60, 60, 2048) 1048576     activation_210[0][0]             \n",
            "__________________________________________________________________________________________________\n",
            "conv5_3_1x1_increase_bn (BatchN (None, 60, 60, 2048) 8192        conv5_3_1x1_increase[0][0]       \n",
            "__________________________________________________________________________________________________\n",
            "add_65 (Add)                    (None, 60, 60, 2048) 0           conv5_3_1x1_increase_bn[0][0]    \n",
            "                                                                 activation_208[0][0]             \n",
            "__________________________________________________________________________________________________\n",
            "activation_211 (Activation)     (None, 60, 60, 2048) 0           add_65[0][0]                     \n",
            "__________________________________________________________________________________________________\n",
            "average_pooling2d_7 (AveragePoo (None, 6, 6, 2048)   0           activation_211[0][0]             \n",
            "__________________________________________________________________________________________________\n",
            "average_pooling2d_6 (AveragePoo (None, 3, 3, 2048)   0           activation_211[0][0]             \n",
            "__________________________________________________________________________________________________\n",
            "average_pooling2d_5 (AveragePoo (None, 2, 2, 2048)   0           activation_211[0][0]             \n",
            "__________________________________________________________________________________________________\n",
            "average_pooling2d_4 (AveragePoo (None, 1, 1, 2048)   0           activation_211[0][0]             \n",
            "__________________________________________________________________________________________________\n",
            "conv5_3_pool6_conv (Conv2D)     (None, 6, 6, 512)    1048576     average_pooling2d_7[0][0]        \n",
            "__________________________________________________________________________________________________\n",
            "conv5_3_pool3_conv (Conv2D)     (None, 3, 3, 512)    1048576     average_pooling2d_6[0][0]        \n",
            "__________________________________________________________________________________________________\n",
            "conv5_3_pool2_conv (Conv2D)     (None, 2, 2, 512)    1048576     average_pooling2d_5[0][0]        \n",
            "__________________________________________________________________________________________________\n",
            "conv5_3_pool1_conv (Conv2D)     (None, 1, 1, 512)    1048576     average_pooling2d_4[0][0]        \n",
            "__________________________________________________________________________________________________\n",
            "conv5_3_pool6_conv_bn (BatchNor (None, 6, 6, 512)    2048        conv5_3_pool6_conv[0][0]         \n",
            "__________________________________________________________________________________________________\n",
            "conv5_3_pool3_conv_bn (BatchNor (None, 3, 3, 512)    2048        conv5_3_pool3_conv[0][0]         \n",
            "__________________________________________________________________________________________________\n",
            "conv5_3_pool2_conv_bn (BatchNor (None, 2, 2, 512)    2048        conv5_3_pool2_conv[0][0]         \n",
            "__________________________________________________________________________________________________\n",
            "conv5_3_pool1_conv_bn (BatchNor (None, 1, 1, 512)    2048        conv5_3_pool1_conv[0][0]         \n",
            "__________________________________________________________________________________________________\n",
            "activation_215 (Activation)     (None, 6, 6, 512)    0           conv5_3_pool6_conv_bn[0][0]      \n",
            "__________________________________________________________________________________________________\n",
            "activation_214 (Activation)     (None, 3, 3, 512)    0           conv5_3_pool3_conv_bn[0][0]      \n",
            "__________________________________________________________________________________________________\n",
            "activation_213 (Activation)     (None, 2, 2, 512)    0           conv5_3_pool2_conv_bn[0][0]      \n",
            "__________________________________________________________________________________________________\n",
            "activation_212 (Activation)     (None, 1, 1, 512)    0           conv5_3_pool1_conv_bn[0][0]      \n",
            "__________________________________________________________________________________________________\n",
            "interp_8 (Interp)               (None, 60, 60, 512)  0           activation_215[0][0]             \n",
            "__________________________________________________________________________________________________\n",
            "interp_7 (Interp)               (None, 60, 60, 512)  0           activation_214[0][0]             \n",
            "__________________________________________________________________________________________________\n",
            "interp_6 (Interp)               (None, 60, 60, 512)  0           activation_213[0][0]             \n",
            "__________________________________________________________________________________________________\n",
            "interp_5 (Interp)               (None, 60, 60, 512)  0           activation_212[0][0]             \n",
            "__________________________________________________________________________________________________\n",
            "concatenate_1 (Concatenate)     (None, 60, 60, 4096) 0           activation_211[0][0]             \n",
            "                                                                 interp_8[0][0]                   \n",
            "                                                                 interp_7[0][0]                   \n",
            "                                                                 interp_6[0][0]                   \n",
            "                                                                 interp_5[0][0]                   \n",
            "__________________________________________________________________________________________________\n",
            "conv5_4 (Conv2D)                (None, 60, 60, 512)  18874368    concatenate_1[0][0]              \n",
            "__________________________________________________________________________________________________\n",
            "conv5_4_bn (BatchNormalization) (None, 60, 60, 512)  2048        conv5_4[0][0]                    \n",
            "__________________________________________________________________________________________________\n",
            "activation_216 (Activation)     (None, 60, 60, 512)  0           conv5_4_bn[0][0]                 \n",
            "__________________________________________________________________________________________________\n",
            "dropout_1 (Dropout)             (None, 60, 60, 512)  0           activation_216[0][0]             \n",
            "__________________________________________________________________________________________________\n",
            "conv6 (Conv2D)                  (None, 60, 60, 21)   10773       dropout_1[0][0]                  \n",
            "__________________________________________________________________________________________________\n",
            "interp_9 (Interp)               (None, 473, 473, 21) 0           conv6[0][0]                      \n",
            "__________________________________________________________________________________________________\n",
            "reshape_1 (Reshape)             (None, 223729, 21)   0           interp_9[0][0]                   \n",
            "__________________________________________________________________________________________________\n",
            "activation_217 (Activation)     (None, 223729, 21)   0           reshape_1[0][0]                  \n",
            "==================================================================================================\n",
            "Total params: 65,819,349\n",
            "Trainable params: 65,708,501\n",
            "Non-trainable params: 110,848\n",
            "__________________________________________________________________________________________________\n"
          ],
          "name": "stdout"
        }
      ]
    },
    {
      "cell_type": "code",
      "metadata": {
        "tags": [],
        "id": "Ql-MByZYQW9X",
        "colab": {
          "base_uri": "https://localhost:8080/"
        },
        "outputId": "7f032f82-19f0-47d1-c538-55bf63281913"
      },
      "source": [
        "from keras.models import load_model\n",
        "from keras_segmentation.models._pspnet_2 import Interp\n",
        "from matplotlib import pyplot as plt\n",
        "\n",
        "model = load_model('my_model.h5', custom_objects={'Interp': Interp})\n",
        "\n",
        "# evaluating the model \n",
        "# print(model.evaluate_segmentation(inp_images_dir='DAVIS2017/train1/bear'  , annotations_dir='DAVIS2017/gt/bear') )"
      ],
      "execution_count": null,
      "outputs": [
        {
          "output_type": "stream",
          "text": [
            "WARNING:tensorflow:No training configuration found in the save file, so the model was *not* compiled. Compile it manually.\n"
          ],
          "name": "stdout"
        }
      ]
    },
    {
      "cell_type": "code",
      "metadata": {
        "colab": {
          "base_uri": "https://localhost:8080/",
          "height": 303
        },
        "id": "D2wFklBNY-lY",
        "outputId": "f9af7fbc-c948-4dee-d982-517c4679af0c"
      },
      "source": [
        "idx = 70\n",
        "imgList = cv2.resize(cv2.imread(fileNames[idx]), (473,473)).reshape(1, 473, 473, 3)\n",
        "\n",
        "\n",
        "out = model.predict(imgList)\n",
        "out = (out.reshape((473,  473, 21)).argmax(axis=2) > 0)*1\n",
        "print(fileNames[idx])\n",
        "plt.imshow(out)\n"
      ],
      "execution_count": null,
      "outputs": [
        {
          "output_type": "stream",
          "text": [
            "Train/bear/00070.jpg\n"
          ],
          "name": "stdout"
        },
        {
          "output_type": "execute_result",
          "data": {
            "text/plain": [
              "<matplotlib.image.AxesImage at 0x7ff85008d790>"
            ]
          },
          "metadata": {
            "tags": []
          },
          "execution_count": 39
        },
        {
          "output_type": "display_data",
          "data": {
            "image/png": "[encoded data removed]",
            "text/plain": [
              "<Figure size 432x288 with 1 Axes>"
            ]
          },
          "metadata": {
            "tags": [],
            "needs_background": "light"
          }
        }
      ]
    },
    {
      "cell_type": "code",
      "metadata": {
        "id": "T_yKq466QW9X"
      },
      "source": [
        "#TODO\n",
        "# Reshape the output layer of the model to get same dimension as the input image. THe current output layer is\n",
        "#activation_219 (Activation)     (None, 223729, 21)   0           reshape_1[0][0] "
      ],
      "execution_count": null,
      "outputs": []
    },
    {
      "cell_type": "code",
      "metadata": {
        "id": "8C7Em1dqQW9Y"
      },
      "source": [
        "# Document quality metric for Task 1 on validation set (display few of the results as well)"
      ],
      "execution_count": null,
      "outputs": []
    },
    {
      "cell_type": "code",
      "metadata": {
        "id": "zu7n9RThQW9Y"
      },
      "source": [
        "import numpy as np\n",
        "\n",
        "EPS = 1e-12\n",
        "\n",
        "def getIOU(gt, pr, n_classes=2):\n",
        "    class_wise = np.zeros(n_classes)\n",
        "    for cl in range(n_classes):\n",
        "        intersection = np.sum((gt == cl)*(pr == cl))\n",
        "        union = np.sum(np.maximum((gt == cl), (pr == cl)))\n",
        "        iou = float(intersection)/(union + EPS)\n",
        "        class_wise[cl] = iou\n",
        "    return class_wise"
      ],
      "execution_count": null,
      "outputs": []
    },
    {
      "cell_type": "code",
      "metadata": {
        "id": "ZN6zIDlvQW9Z",
        "colab": {
          "base_uri": "https://localhost:8080/",
          "height": 303
        },
        "outputId": "205de4f6-e385-493f-fa6a-3f3803bf2db8"
      },
      "source": [
        "ann = (cv2.cvtColor(cv2.resize(cv2.imread(annotationNames[idx]), (473,473)), cv2.COLOR_BGR2GRAY) > 0)*1\n",
        "print(annotationNames[idx])\n",
        "plt.imshow(ann)\n",
        "getIOU(ann, out)"
      ],
      "execution_count": null,
      "outputs": [
        {
          "output_type": "stream",
          "text": [
            "Train_Annotated/bear/00070.png\n"
          ],
          "name": "stdout"
        },
        {
          "output_type": "execute_result",
          "data": {
            "text/plain": [
              "array([0.96978097, 0.77724359])"
            ]
          },
          "metadata": {
            "tags": []
          },
          "execution_count": 12
        },
        {
          "output_type": "display_data",
          "data": {
            "image/png": "[encoded data removed]",
            "text/plain": [
              "<Figure size 432x288 with 1 Axes>"
            ]
          },
          "metadata": {
            "tags": [],
            "needs_background": "light"
          }
        }
      ]
    },
    {
      "cell_type": "code",
      "metadata": {
        "id": "FXFkIfs8QW9Z"
      },
      "source": [
        "# Save trained model for Task 1 (Ensure to download this to your local system / google drive for persistance storage)"
      ],
      "execution_count": null,
      "outputs": []
    },
    {
      "cell_type": "markdown",
      "metadata": {
        "id": "DYmEw0PqQW9Z"
      },
      "source": [
        "## Task 2 - Offline Training"
      ]
    },
    {
      "cell_type": "code",
      "metadata": {
        "id": "q0Bli0BnQW9a"
      },
      "source": [
        "# Load saved model from Task 1"
      ],
      "execution_count": null,
      "outputs": []
    },
    {
      "cell_type": "code",
      "metadata": {
        "id": "bXl1s3C0QW9a",
        "colab": {
          "base_uri": "https://localhost:8080/"
        },
        "outputId": "bc1b280c-1ee2-468b-cbe8-cda0d992ea3c"
      },
      "source": [
        "# Write APIs to load data for Task 2 and split into Train/Validation set"
      ],
      "execution_count": null,
      "outputs": [
        {
          "output_type": "stream",
          "text": [
            "Number of samples: 0\n"
          ],
          "name": "stdout"
        }
      ]
    },
    {
      "cell_type": "code",
      "metadata": {
        "id": "EDb1NEO5sGPd"
      },
      "source": [
        "class DataGenerator(keras.utils.Sequence):\n",
        "    'Generates data for Keras'\n",
        "    def __init__(self, list_IDs, labels, batch_size=32, dim=(473,473), n_channels=3,\n",
        "                 n_classes=10, shuffle=True):\n",
        "        'Initialization'\n",
        "        self.dim = dim\n",
        "        self.batch_size = batch_size\n",
        "        self.labels = labels\n",
        "        self.list_IDs = list_IDs\n",
        "        self.n_channels = n_channels\n",
        "        self.n_classes = n_classes\n",
        "        self.shuffle = shuffle\n",
        "        self.on_epoch_end()\n",
        "        self.imgList = imgList\n",
        "        self.annList = annList\n",
        "        sef.cnt = 0\n",
        "\n",
        "    def __len__(self):\n",
        "        'Denotes the number of batches per epoch'\n",
        "        return int(np.floor(len(self.imgList) / self.batch_size))\n",
        "\n",
        "    def __getitem__(self, index):\n",
        "        'Generate one batch of data'\n",
        "        # Generate indexes of the batch\n",
        "        indexes = self.indexes[index*self.batch_size:(index+1)*self.batch_size]\n",
        "\n",
        "        # Find list of IDs\n",
        "        list_IDs_temp = [self.list_IDs[k] for k in indexes]\n",
        "\n",
        "        # Generate data\n",
        "        X, y = self.__data_generation(list_IDs_temp)\n",
        "\n",
        "        return X, y\n",
        "\n",
        "    def on_epoch_end(self):\n",
        "        'Updates indexes after each epoch'\n",
        "        self.indexes = np.arange(len(self.list_IDs))\n",
        "        if self.shuffle == True:\n",
        "            np.random.shuffle(self.indexes)\n",
        "\n",
        "    def __data_generation(self, batch_size):\n",
        "        'Generates data containing batch_size samples' # X : (n_samples, *dim, n_channels)\n",
        "        # Initialization\n",
        "        X1 = np.empty((self.batch_size, *self.dim, self.n_channels))\n",
        "        X2 = np.empty((self.batch_size, *self.dim, self.n_channels))\n",
        "        y = np.empty((self.batch_size, *self.dim, self.n_channels), dtype=int)\n",
        "\n",
        "        # Generate data\n",
        "        for i in range(self.batch_size):\n",
        "\n",
        "            X1[i,] = cv2.imread(self.imgList[self.cnt][i+1]) # T - image\n",
        "            X2[i,] = cv2.imread(self.annList[self.cnt][i]) # T-1 - annotation\n",
        "\n",
        "            # Store class\n",
        "            y[i] = cv2.imread(self.annList[self.cnt][i+1]) # T - annotation\n",
        "\n",
        "        return [X1,X2], y"
      ],
      "execution_count": null,
      "outputs": []
    },
    {
      "cell_type": "code",
      "metadata": {
        "id": "iXiwxl1bQW9a"
      },
      "source": [
        "# Unit tests to ensure data load for Task 2 is correct (display few of the samples)"
      ],
      "execution_count": null,
      "outputs": []
    },
    {
      "cell_type": "code",
      "metadata": {
        "id": "NuqXJPuRQW9b"
      },
      "source": [
        "# Implement DL algorithm for Task 2 in next few cells"
      ],
      "execution_count": null,
      "outputs": []
    },
    {
      "cell_type": "code",
      "metadata": {
        "id": "4fm53Qz2sgM7"
      },
      "source": [
        "from keras.models import Model\n",
        "from keras.layers import Dense\n",
        "from keras.layers import Flatten\n",
        "from keras.layers import Reshape, MaxPooling3D, Maximum, Softmax\n",
        "import tensorflow as tf\n",
        "import keras\n",
        "\n",
        "maskInput = keras.Input(shape=(model.input_shape))\n",
        "reshape1 = Reshape((model.input_shape[1], model.input_shape[2], 21, 1))(model.layers[-1].output)\n",
        "maxPool = MaxPooling3D((1,1,21))(reshape1)\n",
        "merge = Maximum()([maxPool, maskInput])\n",
        "out = Softmax()(merge)\n",
        "\n",
        "# maskInput = \n",
        "modelT2 = Model(inputs=[model.inputs, maskInput], outputs=out)"
      ],
      "execution_count": null,
      "outputs": []
    },
    {
      "cell_type": "code",
      "metadata": {
        "colab": {
          "base_uri": "https://localhost:8080/",
          "height": 320
        },
        "id": "-VlfJxJmRdnO",
        "outputId": "c30da753-488b-4ebf-dbe0-dbc4e1b1ba6e"
      },
      "source": [
        "\n",
        "out = model1.predict(imgList).reshape((473,473))\n",
        "print(out.shape)\n",
        "print(fileNames[idx])\n",
        "plt.imshow(out)"
      ],
      "execution_count": null,
      "outputs": [
        {
          "output_type": "stream",
          "text": [
            "(473, 473)\n",
            "Train/bear/00070.jpg\n"
          ],
          "name": "stdout"
        },
        {
          "output_type": "execute_result",
          "data": {
            "text/plain": [
              "<matplotlib.image.AxesImage at 0x7ff7f0154f90>"
            ]
          },
          "metadata": {
            "tags": []
          },
          "execution_count": 51
        },
        {
          "output_type": "display_data",
          "data": {
            "image/png": "[encoded data removed]",
            "text/plain": [
              "<Figure size 432x288 with 1 Axes>"
            ]
          },
          "metadata": {
            "tags": [],
            "needs_background": "light"
          }
        }
      ]
    },
    {
      "cell_type": "code",
      "metadata": {
        "id": "6LCFf5TCQW9b",
        "colab": {
          "base_uri": "https://localhost:8080/"
        },
        "outputId": "75695f14-85aa-4227-b706-601ec7581e27"
      },
      "source": [
        "# Document quality metric for Task 2 on validation set (display few of the results as well)\n",
        "print(model.input_shape)"
      ],
      "execution_count": null,
      "outputs": [
        {
          "output_type": "stream",
          "text": [
            "(None, 473, 473, 3)\n"
          ],
          "name": "stdout"
        }
      ]
    },
    {
      "cell_type": "code",
      "metadata": {
        "id": "0PZv7RbfQW9b"
      },
      "source": [
        "# Save trained model for Task 2 (Ensure to download this to your local system / google drive for persistance storage)"
      ],
      "execution_count": null,
      "outputs": []
    },
    {
      "cell_type": "markdown",
      "metadata": {
        "id": "5Kjaf5Xedr58"
      },
      "source": [
        "## Task 3 - Online Training"
      ]
    },
    {
      "cell_type": "code",
      "metadata": {
        "id": "1HrOa0Jddr58"
      },
      "source": [
        "# Load saved model from Task 2"
      ],
      "execution_count": null,
      "outputs": []
    },
    {
      "cell_type": "code",
      "metadata": {
        "id": "0irGmQm5dr58"
      },
      "source": [
        "# Write APIs to perform online training for given test data in next few cells"
      ],
      "execution_count": null,
      "outputs": []
    },
    {
      "cell_type": "code",
      "metadata": {
        "id": "7JDwDewWdr58"
      },
      "source": [
        "# Implement a top level function for inference on test data\n",
        "# Input 1: Path to directory containing 'N' ordered images for given test sample\n",
        "# Input 2: Path to directory containing corresponding 'N' masks with filename as that of images \n",
        "#          Here, use only mask[0] with images for online training where as mask[1:N] are ground truth for evaluating predictions\n",
        "# Output 1: Quality metric for every single mask prediction from time (t=1 to t = T) and average for the same\n",
        "# Output 2: Display all predicted masks along with original RGB image and ground truth masks in order"
      ],
      "execution_count": null,
      "outputs": []
    },
    {
      "cell_type": "markdown",
      "metadata": {
        "id": "E70PGEBkdr58"
      },
      "source": [
        "## Variants - Extra Credit"
      ]
    },
    {
      "cell_type": "code",
      "metadata": {
        "id": "niyk0eK9dr5-"
      },
      "source": [
        ""
      ],
      "execution_count": null,
      "outputs": []
    },
    {
      "cell_type": "code",
      "metadata": {
        "id": "uwq9gXUvRUX3"
      },
      "source": [
        ""
      ],
      "execution_count": null,
      "outputs": []
    }
  ]
}